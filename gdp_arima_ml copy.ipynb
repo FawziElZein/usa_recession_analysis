{
 "cells": [
  {
   "cell_type": "code",
   "execution_count": 1,
   "metadata": {},
   "outputs": [
    {
     "name": "stderr",
     "output_type": "stream",
     "text": [
      "c:\\Users\\user\\OneDrive\\Documents\\SE_Factory\\FSD\\Final_Project\\usa_recession_analysis\\database_handler.py:64: UserWarning: pandas only supports SQLAlchemy connectable (engine/connection) or database string URI or sqlite3 DBAPI2 connection. Other DBAPI2 objects are not tested. Please consider using SQLAlchemy.\n",
      "  return_dataframe = pd.read_sql_query(con= db_session, sql= file_executor)\n"
     ]
    },
    {
     "data": {
      "text/html": [
       "<div>\n",
       "<style scoped>\n",
       "    .dataframe tbody tr th:only-of-type {\n",
       "        vertical-align: middle;\n",
       "    }\n",
       "\n",
       "    .dataframe tbody tr th {\n",
       "        vertical-align: top;\n",
       "    }\n",
       "\n",
       "    .dataframe thead th {\n",
       "        text-align: right;\n",
       "    }\n",
       "</style>\n",
       "<table border=\"1\" class=\"dataframe\">\n",
       "  <thead>\n",
       "    <tr style=\"text-align: right;\">\n",
       "      <th></th>\n",
       "      <th>date</th>\n",
       "      <th>gdp</th>\n",
       "      <th>pce</th>\n",
       "      <th>gpdi</th>\n",
       "      <th>netexp</th>\n",
       "      <th>gcec</th>\n",
       "      <th>impgs</th>\n",
       "    </tr>\n",
       "  </thead>\n",
       "  <tbody>\n",
       "    <tr>\n",
       "      <th>0</th>\n",
       "      <td>2007-01-01</td>\n",
       "      <td>16611.690</td>\n",
       "      <td>28716.4</td>\n",
       "      <td>2664.295</td>\n",
       "      <td>-739.273</td>\n",
       "      <td>3299.115</td>\n",
       "      <td>2317.264</td>\n",
       "    </tr>\n",
       "    <tr>\n",
       "      <th>1</th>\n",
       "      <td>2007-04-01</td>\n",
       "      <td>16713.314</td>\n",
       "      <td>29036.2</td>\n",
       "      <td>2699.217</td>\n",
       "      <td>-745.806</td>\n",
       "      <td>3329.139</td>\n",
       "      <td>2368.569</td>\n",
       "    </tr>\n",
       "    <tr>\n",
       "      <th>2</th>\n",
       "      <td>2007-07-01</td>\n",
       "      <td>16809.587</td>\n",
       "      <td>29395.1</td>\n",
       "      <td>2685.969</td>\n",
       "      <td>-728.954</td>\n",
       "      <td>3344.222</td>\n",
       "      <td>2414.664</td>\n",
       "    </tr>\n",
       "    <tr>\n",
       "      <th>3</th>\n",
       "      <td>2007-10-01</td>\n",
       "      <td>16915.191</td>\n",
       "      <td>29811.4</td>\n",
       "      <td>2642.560</td>\n",
       "      <td>-729.699</td>\n",
       "      <td>3370.950</td>\n",
       "      <td>2480.413</td>\n",
       "    </tr>\n",
       "    <tr>\n",
       "      <th>4</th>\n",
       "      <td>2008-01-01</td>\n",
       "      <td>16843.003</td>\n",
       "      <td>30013.4</td>\n",
       "      <td>2563.701</td>\n",
       "      <td>-771.248</td>\n",
       "      <td>3378.654</td>\n",
       "      <td>2584.568</td>\n",
       "    </tr>\n",
       "    <tr>\n",
       "      <th>...</th>\n",
       "      <td>...</td>\n",
       "      <td>...</td>\n",
       "      <td>...</td>\n",
       "      <td>...</td>\n",
       "      <td>...</td>\n",
       "      <td>...</td>\n",
       "      <td>...</td>\n",
       "    </tr>\n",
       "    <tr>\n",
       "      <th>61</th>\n",
       "      <td>2022-04-01</td>\n",
       "      <td>21708.160</td>\n",
       "      <td>52245.3</td>\n",
       "      <td>4739.049</td>\n",
       "      <td>-1025.567</td>\n",
       "      <td>3641.161</td>\n",
       "      <td>4069.839</td>\n",
       "    </tr>\n",
       "    <tr>\n",
       "      <th>62</th>\n",
       "      <td>2022-07-01</td>\n",
       "      <td>21851.134</td>\n",
       "      <td>53052.6</td>\n",
       "      <td>4724.621</td>\n",
       "      <td>-892.026</td>\n",
       "      <td>3666.982</td>\n",
       "      <td>3976.524</td>\n",
       "    </tr>\n",
       "    <tr>\n",
       "      <th>63</th>\n",
       "      <td>2022-10-01</td>\n",
       "      <td>21989.981</td>\n",
       "      <td>53751.2</td>\n",
       "      <td>4796.162</td>\n",
       "      <td>-877.204</td>\n",
       "      <td>3714.800</td>\n",
       "      <td>3891.004</td>\n",
       "    </tr>\n",
       "    <tr>\n",
       "      <th>64</th>\n",
       "      <td>2023-01-01</td>\n",
       "      <td>22112.329</td>\n",
       "      <td>54808.7</td>\n",
       "      <td>4725.828</td>\n",
       "      <td>-825.687</td>\n",
       "      <td>3758.768</td>\n",
       "      <td>3890.491</td>\n",
       "    </tr>\n",
       "    <tr>\n",
       "      <th>65</th>\n",
       "      <td>2023-04-01</td>\n",
       "      <td>22225.350</td>\n",
       "      <td>55257.0</td>\n",
       "      <td>4780.290</td>\n",
       "      <td>-806.093</td>\n",
       "      <td>3789.786</td>\n",
       "      <td>3767.851</td>\n",
       "    </tr>\n",
       "  </tbody>\n",
       "</table>\n",
       "<p>66 rows × 7 columns</p>\n",
       "</div>"
      ],
      "text/plain": [
       "          date        gdp      pce      gpdi    netexp      gcec     impgs\n",
       "0   2007-01-01  16611.690  28716.4  2664.295  -739.273  3299.115  2317.264\n",
       "1   2007-04-01  16713.314  29036.2  2699.217  -745.806  3329.139  2368.569\n",
       "2   2007-07-01  16809.587  29395.1  2685.969  -728.954  3344.222  2414.664\n",
       "3   2007-10-01  16915.191  29811.4  2642.560  -729.699  3370.950  2480.413\n",
       "4   2008-01-01  16843.003  30013.4  2563.701  -771.248  3378.654  2584.568\n",
       "..         ...        ...      ...       ...       ...       ...       ...\n",
       "61  2022-04-01  21708.160  52245.3  4739.049 -1025.567  3641.161  4069.839\n",
       "62  2022-07-01  21851.134  53052.6  4724.621  -892.026  3666.982  3976.524\n",
       "63  2022-10-01  21989.981  53751.2  4796.162  -877.204  3714.800  3891.004\n",
       "64  2023-01-01  22112.329  54808.7  4725.828  -825.687  3758.768  3890.491\n",
       "65  2023-04-01  22225.350  55257.0  4780.290  -806.093  3789.786  3767.851\n",
       "\n",
       "[66 rows x 7 columns]"
      ]
     },
     "execution_count": 1,
     "metadata": {},
     "output_type": "execute_result"
    }
   ],
   "source": [
    "import pandas as pd\n",
    "from database_handler import execute_query,create_connection,return_data_as_df\n",
    "from lookups import InputTypes\n",
    "\n",
    "db_session = create_connection()\n",
    "query = \"\"\" SELECT * FROM dw_reporting.dim_gdp_all_measures\n",
    " \"\"\"\n",
    "\n",
    "df = return_data_as_df(query,InputTypes.SQL,db_session)\n",
    "df"
   ]
  },
  {
   "cell_type": "code",
   "execution_count": 2,
   "metadata": {},
   "outputs": [],
   "source": [
    "import pandas as pd\n",
    "from statsmodels.tsa.arima.model import ARIMA\n"
   ]
  },
  {
   "cell_type": "code",
   "execution_count": 3,
   "metadata": {},
   "outputs": [],
   "source": [
    "# Assuming your data is in a DataFrame named 'df'\n",
    "df['date'] = pd.to_datetime(df['date'])\n",
    "df.set_index('date', inplace=True)\n"
   ]
  },
  {
   "cell_type": "code",
   "execution_count": 5,
   "metadata": {},
   "outputs": [
    {
     "name": "stdout",
     "output_type": "stream",
     "text": [
      "ADF Statistic: 0.6853868216176305\n",
      "p-value: 0.9895416810729587\n"
     ]
    }
   ],
   "source": [
    "# You can use the adfuller function from statsmodels for the ADF test\n",
    "from statsmodels.tsa.stattools import adfuller\n",
    "\n",
    "result = adfuller(df['gdp'])\n",
    "print('ADF Statistic:', result[0])\n",
    "print('p-value:', result[1])\n"
   ]
  },
  {
   "cell_type": "code",
   "execution_count": 58,
   "metadata": {},
   "outputs": [],
   "source": [
    "# Example of differencing\n",
    "df['gdp_diff'] = df['gdp'].diff()\n"
   ]
  },
  {
   "cell_type": "code",
   "execution_count": 69,
   "metadata": {},
   "outputs": [],
   "source": [
    "pd.set_option('display.max_rows', None)\n"
   ]
  },
  {
   "cell_type": "code",
   "execution_count": 70,
   "metadata": {},
   "outputs": [
    {
     "data": {
      "text/plain": [
       "date\n",
       "2007-01-01         NaN\n",
       "2007-04-01     101.624\n",
       "2007-07-01      96.273\n",
       "2007-10-01     105.604\n",
       "2008-01-01     -72.188\n",
       "2008-04-01     100.288\n",
       "2008-07-01     -88.996\n",
       "2008-10-01    -368.945\n",
       "2009-01-01    -187.088\n",
       "2009-04-01     -29.117\n",
       "2009-07-01      57.136\n",
       "2009-10-01     176.473\n",
       "2010-01-01      79.956\n",
       "2010-04-01     160.452\n",
       "2010-07-01     129.104\n",
       "2010-10-01      88.598\n",
       "2011-01-01     -40.232\n",
       "2011-04-01     114.482\n",
       "2011-07-01      -3.801\n",
       "2011-10-01     191.270\n",
       "2012-01-01     144.427\n",
       "2012-04-01      77.515\n",
       "2012-07-01      25.125\n",
       "2012-10-01      20.202\n",
       "2013-01-01     172.548\n",
       "2013-04-01      47.271\n",
       "2013-07-01     150.779\n",
       "2013-10-01     155.697\n",
       "2014-01-01     -62.173\n",
       "2014-04-01     231.937\n",
       "2014-07-01     221.030\n",
       "2014-10-01      93.090\n",
       "2015-01-01     166.590\n",
       "2015-04-01     115.622\n",
       "2015-07-01      75.175\n",
       "2015-10-01      34.788\n",
       "2016-01-01     109.484\n",
       "2016-04-01      61.019\n",
       "2016-07-01     135.229\n",
       "2016-10-01     106.414\n",
       "2017-01-01      93.991\n",
       "2017-04-01     108.606\n",
       "2017-07-01     153.817\n",
       "2017-10-01     221.586\n",
       "2018-01-01     161.725\n",
       "2018-04-01     106.399\n",
       "2018-07-01     125.678\n",
       "2018-10-01      28.720\n",
       "2019-01-01     110.276\n",
       "2019-04-01     169.378\n",
       "2019-07-01     233.053\n",
       "2019-10-01     133.507\n",
       "2020-01-01    -285.535\n",
       "2020-04-01   -1630.723\n",
       "2020-07-01    1476.955\n",
       "2020-10-01     212.343\n",
       "2021-01-01     266.413\n",
       "2021-04-01     319.003\n",
       "2021-07-01     173.539\n",
       "2021-10-01     364.519\n",
       "2022-01-01    -108.731\n",
       "2022-04-01     -30.711\n",
       "2022-07-01     142.974\n",
       "2022-10-01     138.847\n",
       "2023-01-01     122.348\n",
       "2023-04-01     113.021\n",
       "Name: gdp_diff, dtype: float64"
      ]
     },
     "execution_count": 70,
     "metadata": {},
     "output_type": "execute_result"
    }
   ],
   "source": [
    "df['gdp_diff']"
   ]
  },
  {
   "cell_type": "code",
   "execution_count": 6,
   "metadata": {},
   "outputs": [
    {
     "ename": "KeyError",
     "evalue": "'gdp_diff'",
     "output_type": "error",
     "traceback": [
      "\u001b[1;31m---------------------------------------------------------------------------\u001b[0m",
      "\u001b[1;31mKeyError\u001b[0m                                  Traceback (most recent call last)",
      "File \u001b[1;32mc:\\Users\\user\\anaconda3\\envs\\sefactory_env\\lib\\site-packages\\pandas\\core\\indexes\\base.py:3802\u001b[0m, in \u001b[0;36mIndex.get_loc\u001b[1;34m(self, key, method, tolerance)\u001b[0m\n\u001b[0;32m   3801\u001b[0m \u001b[39mtry\u001b[39;00m:\n\u001b[1;32m-> 3802\u001b[0m     \u001b[39mreturn\u001b[39;00m \u001b[39mself\u001b[39;49m\u001b[39m.\u001b[39;49m_engine\u001b[39m.\u001b[39;49mget_loc(casted_key)\n\u001b[0;32m   3803\u001b[0m \u001b[39mexcept\u001b[39;00m \u001b[39mKeyError\u001b[39;00m \u001b[39mas\u001b[39;00m err:\n",
      "File \u001b[1;32mc:\\Users\\user\\anaconda3\\envs\\sefactory_env\\lib\\site-packages\\pandas\\_libs\\index.pyx:138\u001b[0m, in \u001b[0;36mpandas._libs.index.IndexEngine.get_loc\u001b[1;34m()\u001b[0m\n",
      "File \u001b[1;32mc:\\Users\\user\\anaconda3\\envs\\sefactory_env\\lib\\site-packages\\pandas\\_libs\\index.pyx:165\u001b[0m, in \u001b[0;36mpandas._libs.index.IndexEngine.get_loc\u001b[1;34m()\u001b[0m\n",
      "File \u001b[1;32mpandas\\_libs\\hashtable_class_helper.pxi:5745\u001b[0m, in \u001b[0;36mpandas._libs.hashtable.PyObjectHashTable.get_item\u001b[1;34m()\u001b[0m\n",
      "File \u001b[1;32mpandas\\_libs\\hashtable_class_helper.pxi:5753\u001b[0m, in \u001b[0;36mpandas._libs.hashtable.PyObjectHashTable.get_item\u001b[1;34m()\u001b[0m\n",
      "\u001b[1;31mKeyError\u001b[0m: 'gdp_diff'",
      "\nThe above exception was the direct cause of the following exception:\n",
      "\u001b[1;31mKeyError\u001b[0m                                  Traceback (most recent call last)",
      "\u001b[1;32mc:\\Users\\user\\OneDrive\\Documents\\SE_Factory\\FSD\\Final_Project\\usa_recession_analysis\\gdp_arima_ml copy.ipynb Cell 8\u001b[0m line \u001b[0;36m1\n\u001b[1;32m----> <a href='vscode-notebook-cell:/c%3A/Users/user/OneDrive/Documents/SE_Factory/FSD/Final_Project/usa_recession_analysis/gdp_arima_ml%20copy.ipynb#X10sZmlsZQ%3D%3D?line=0'>1</a>\u001b[0m result_diff \u001b[39m=\u001b[39m adfuller(df[\u001b[39m'\u001b[39;49m\u001b[39mgdp_diff\u001b[39;49m\u001b[39m'\u001b[39;49m]\u001b[39m.\u001b[39mdropna())\n\u001b[0;32m      <a href='vscode-notebook-cell:/c%3A/Users/user/OneDrive/Documents/SE_Factory/FSD/Final_Project/usa_recession_analysis/gdp_arima_ml%20copy.ipynb#X10sZmlsZQ%3D%3D?line=1'>2</a>\u001b[0m \u001b[39mprint\u001b[39m(\u001b[39m'\u001b[39m\u001b[39mADF Statistic:\u001b[39m\u001b[39m'\u001b[39m, result_diff[\u001b[39m0\u001b[39m])\n\u001b[0;32m      <a href='vscode-notebook-cell:/c%3A/Users/user/OneDrive/Documents/SE_Factory/FSD/Final_Project/usa_recession_analysis/gdp_arima_ml%20copy.ipynb#X10sZmlsZQ%3D%3D?line=2'>3</a>\u001b[0m \u001b[39mprint\u001b[39m(\u001b[39m'\u001b[39m\u001b[39mp-value:\u001b[39m\u001b[39m'\u001b[39m, result_diff[\u001b[39m1\u001b[39m])\n",
      "File \u001b[1;32mc:\\Users\\user\\anaconda3\\envs\\sefactory_env\\lib\\site-packages\\pandas\\core\\frame.py:3807\u001b[0m, in \u001b[0;36mDataFrame.__getitem__\u001b[1;34m(self, key)\u001b[0m\n\u001b[0;32m   3805\u001b[0m \u001b[39mif\u001b[39;00m \u001b[39mself\u001b[39m\u001b[39m.\u001b[39mcolumns\u001b[39m.\u001b[39mnlevels \u001b[39m>\u001b[39m \u001b[39m1\u001b[39m:\n\u001b[0;32m   3806\u001b[0m     \u001b[39mreturn\u001b[39;00m \u001b[39mself\u001b[39m\u001b[39m.\u001b[39m_getitem_multilevel(key)\n\u001b[1;32m-> 3807\u001b[0m indexer \u001b[39m=\u001b[39m \u001b[39mself\u001b[39;49m\u001b[39m.\u001b[39;49mcolumns\u001b[39m.\u001b[39;49mget_loc(key)\n\u001b[0;32m   3808\u001b[0m \u001b[39mif\u001b[39;00m is_integer(indexer):\n\u001b[0;32m   3809\u001b[0m     indexer \u001b[39m=\u001b[39m [indexer]\n",
      "File \u001b[1;32mc:\\Users\\user\\anaconda3\\envs\\sefactory_env\\lib\\site-packages\\pandas\\core\\indexes\\base.py:3804\u001b[0m, in \u001b[0;36mIndex.get_loc\u001b[1;34m(self, key, method, tolerance)\u001b[0m\n\u001b[0;32m   3802\u001b[0m     \u001b[39mreturn\u001b[39;00m \u001b[39mself\u001b[39m\u001b[39m.\u001b[39m_engine\u001b[39m.\u001b[39mget_loc(casted_key)\n\u001b[0;32m   3803\u001b[0m \u001b[39mexcept\u001b[39;00m \u001b[39mKeyError\u001b[39;00m \u001b[39mas\u001b[39;00m err:\n\u001b[1;32m-> 3804\u001b[0m     \u001b[39mraise\u001b[39;00m \u001b[39mKeyError\u001b[39;00m(key) \u001b[39mfrom\u001b[39;00m \u001b[39merr\u001b[39;00m\n\u001b[0;32m   3805\u001b[0m \u001b[39mexcept\u001b[39;00m \u001b[39mTypeError\u001b[39;00m:\n\u001b[0;32m   3806\u001b[0m     \u001b[39m# If we have a listlike key, _check_indexing_error will raise\u001b[39;00m\n\u001b[0;32m   3807\u001b[0m     \u001b[39m#  InvalidIndexError. Otherwise we fall through and re-raise\u001b[39;00m\n\u001b[0;32m   3808\u001b[0m     \u001b[39m#  the TypeError.\u001b[39;00m\n\u001b[0;32m   3809\u001b[0m     \u001b[39mself\u001b[39m\u001b[39m.\u001b[39m_check_indexing_error(key)\n",
      "\u001b[1;31mKeyError\u001b[0m: 'gdp_diff'"
     ]
    }
   ],
   "source": [
    "result_diff = adfuller(df['gdp_diff'].dropna())\n",
    "print('ADF Statistic:', result_diff[0])\n",
    "print('p-value:', result_diff[1])"
   ]
  },
  {
   "cell_type": "code",
   "execution_count": 10,
   "metadata": {},
   "outputs": [
    {
     "data": {
      "image/png": "[encoded data removed]",
      "text/plain": [
       "<Figure size 1000x800 with 2 Axes>"
      ]
     },
     "metadata": {},
     "output_type": "display_data"
    }
   ],
   "source": [
    "pd.reset_option('display.max_rows')\n",
    "\n",
    "# Example of ACF and PACF plots\n",
    "from statsmodels.graphics.tsaplots import plot_acf, plot_pacf\n",
    "import matplotlib.pyplot as plt\n",
    "\n",
    "fig, (ax1, ax2) = plt.subplots(2, 1, figsize=(10, 8))\n",
    "\n",
    "plot_acf(df['gdp'].dropna(), lags=3, ax=ax1)\n",
    "plot_pacf(df['gdp'].dropna(), lags=3, ax=ax2)\n",
    "\n",
    "plt.show()\n"
   ]
  },
  {
   "cell_type": "code",
   "execution_count": 11,
   "metadata": {},
   "outputs": [
    {
     "name": "stderr",
     "output_type": "stream",
     "text": [
      "c:\\Users\\user\\anaconda3\\envs\\sefactory_env\\lib\\site-packages\\statsmodels\\tsa\\base\\tsa_model.py:473: ValueWarning: No frequency information was provided, so inferred frequency QS-OCT will be used.\n",
      "  self._init_dates(dates, freq)\n",
      "c:\\Users\\user\\anaconda3\\envs\\sefactory_env\\lib\\site-packages\\statsmodels\\tsa\\base\\tsa_model.py:473: ValueWarning: No frequency information was provided, so inferred frequency QS-OCT will be used.\n",
      "  self._init_dates(dates, freq)\n",
      "c:\\Users\\user\\anaconda3\\envs\\sefactory_env\\lib\\site-packages\\statsmodels\\tsa\\base\\tsa_model.py:473: ValueWarning: No frequency information was provided, so inferred frequency QS-OCT will be used.\n",
      "  self._init_dates(dates, freq)\n",
      "c:\\Users\\user\\anaconda3\\envs\\sefactory_env\\lib\\site-packages\\statsmodels\\tsa\\statespace\\sarimax.py:966: UserWarning: Non-stationary starting autoregressive parameters found. Using zeros as starting parameters.\n",
      "  warn('Non-stationary starting autoregressive parameters'\n",
      "c:\\Users\\user\\anaconda3\\envs\\sefactory_env\\lib\\site-packages\\statsmodels\\base\\model.py:607: ConvergenceWarning: Maximum Likelihood optimization failed to converge. Check mle_retvals\n",
      "  warnings.warn(\"Maximum Likelihood optimization failed to \"\n"
     ]
    }
   ],
   "source": [
    "# Example of fitting an ARIMA model\n",
    "order = (3, 0, 2)  # Replace p, d, q with the determined values\n",
    "model = ARIMA(df['gdp'], order=order)\n",
    "fit_model = model.fit()\n"
   ]
  },
  {
   "cell_type": "code",
   "execution_count": 12,
   "metadata": {},
   "outputs": [
    {
     "data": {
      "text/plain": [
       "datetime.datetime(2023, 7, 1, 0, 0)"
      ]
     },
     "execution_count": 12,
     "metadata": {},
     "output_type": "execute_result"
    }
   ],
   "source": [
    "from datetime import datetime\n",
    "from dateutil.relativedelta import relativedelta\n",
    "\n",
    "# Example of making predictions\n",
    "future_date = datetime(2023,7,1)\n",
    "\n",
    "future_date"
   ]
  },
  {
   "cell_type": "code",
   "execution_count": 13,
   "metadata": {},
   "outputs": [
    {
     "data": {
      "text/plain": [
       "[datetime.datetime(2023, 10, 1, 0, 0),\n",
       " datetime.datetime(2024, 1, 1, 0, 0),\n",
       " datetime.datetime(2024, 4, 1, 0, 0),\n",
       " datetime.datetime(2024, 7, 1, 0, 0),\n",
       " datetime.datetime(2024, 10, 1, 0, 0),\n",
       " datetime.datetime(2025, 1, 1, 0, 0),\n",
       " datetime.datetime(2025, 4, 1, 0, 0),\n",
       " datetime.datetime(2025, 7, 1, 0, 0),\n",
       " datetime.datetime(2025, 10, 1, 0, 0),\n",
       " datetime.datetime(2026, 1, 1, 0, 0),\n",
       " datetime.datetime(2026, 4, 1, 0, 0),\n",
       " datetime.datetime(2026, 7, 1, 0, 0)]"
      ]
     },
     "execution_count": 13,
     "metadata": {},
     "output_type": "execute_result"
    }
   ],
   "source": [
    "future_dates = []\n",
    "for _ in range(12):\n",
    "    future_date += relativedelta(months=3)\n",
    "    future_dates.append(future_date)\n",
    "future_dates"
   ]
  },
  {
   "cell_type": "code",
   "execution_count": 14,
   "metadata": {},
   "outputs": [
    {
     "name": "stdout",
     "output_type": "stream",
     "text": [
      "            GDP Forecast\n",
      "2023-10-01  22173.092224\n",
      "2024-01-01  22154.906427\n",
      "2024-04-01  22132.735305\n",
      "2024-07-01  22115.344008\n",
      "2024-10-01  22094.380991\n",
      "2025-01-01  22076.021253\n",
      "2025-04-01  22056.254224\n",
      "2025-07-01  22037.458213\n",
      "2025-10-01  22018.324362\n",
      "2026-01-01  21999.519521\n",
      "2026-04-01  21980.730570\n",
      "2026-07-01           NaN\n"
     ]
    }
   ],
   "source": [
    "\n",
    "\n",
    "forecast = fit_model.get_forecast(steps=len(future_dates))\n",
    "forecast_index = pd.DatetimeIndex(future_dates)\n",
    "\n",
    "forecast_values = forecast.predicted_mean\n",
    "forecast_df = pd.DataFrame({'GDP Forecast': forecast_values}, index=forecast_index)\n",
    "\n",
    "print(forecast_df)\n"
   ]
  }
 ],
 "metadata": {
  "kernelspec": {
   "display_name": "sefactory_env",
   "language": "python",
   "name": "python3"
  },
  "language_info": {
   "codemirror_mode": {
    "name": "ipython",
    "version": 3
   },
   "file_extension": ".py",
   "mimetype": "text/x-python",
   "name": "python",
   "nbconvert_exporter": "python",
   "pygments_lexer": "ipython3",
   "version": "3.10.9"
  }
 },
 "nbformat": 4,
 "nbformat_minor": 2
}
