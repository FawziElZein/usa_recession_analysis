{
 "cells": [
  {
   "cell_type": "code",
   "execution_count": 104,
   "metadata": {},
   "outputs": [
    {
     "name": "stderr",
     "output_type": "stream",
     "text": [
      "c:\\Users\\user\\OneDrive\\Documents\\SE_Factory\\FSD\\Final_Project\\usa_recession_analysis\\database_handler.py:64: UserWarning: pandas only supports SQLAlchemy connectable (engine/connection) or database string URI or sqlite3 DBAPI2 connection. Other DBAPI2 objects are not tested. Please consider using SQLAlchemy.\n",
      "  return_dataframe = pd.read_sql_query(con= db_session, sql= file_executor)\n"
     ]
    },
    {
     "data": {
      "text/html": [
       "<div>\n",
       "<style scoped>\n",
       "    .dataframe tbody tr th:only-of-type {\n",
       "        vertical-align: middle;\n",
       "    }\n",
       "\n",
       "    .dataframe tbody tr th {\n",
       "        vertical-align: top;\n",
       "    }\n",
       "\n",
       "    .dataframe thead th {\n",
       "        text-align: right;\n",
       "    }\n",
       "</style>\n",
       "<table border=\"1\" class=\"dataframe\">\n",
       "  <thead>\n",
       "    <tr style=\"text-align: right;\">\n",
       "      <th></th>\n",
       "      <th>date_ticker</th>\n",
       "      <th>date</th>\n",
       "      <th>ticker</th>\n",
       "      <th>stock_price</th>\n",
       "      <th>neg</th>\n",
       "      <th>neu</th>\n",
       "      <th>pos</th>\n",
       "      <th>compound</th>\n",
       "    </tr>\n",
       "  </thead>\n",
       "  <tbody>\n",
       "    <tr>\n",
       "      <th>0</th>\n",
       "      <td>2023-10-06-AAPL</td>\n",
       "      <td>2023-10-06</td>\n",
       "      <td>AAPL</td>\n",
       "      <td>175.58</td>\n",
       "      <td>0.05</td>\n",
       "      <td>0.79</td>\n",
       "      <td>0.16</td>\n",
       "      <td>0.67</td>\n",
       "    </tr>\n",
       "    <tr>\n",
       "      <th>1</th>\n",
       "      <td>2023-10-05-AAPL</td>\n",
       "      <td>2023-10-05</td>\n",
       "      <td>AAPL</td>\n",
       "      <td>174.06</td>\n",
       "      <td>0.07</td>\n",
       "      <td>0.80</td>\n",
       "      <td>0.13</td>\n",
       "      <td>0.26</td>\n",
       "    </tr>\n",
       "    <tr>\n",
       "      <th>2</th>\n",
       "      <td>2023-10-04-AAPL</td>\n",
       "      <td>2023-10-04</td>\n",
       "      <td>AAPL</td>\n",
       "      <td>172.59</td>\n",
       "      <td>0.06</td>\n",
       "      <td>0.82</td>\n",
       "      <td>0.12</td>\n",
       "      <td>0.51</td>\n",
       "    </tr>\n",
       "    <tr>\n",
       "      <th>3</th>\n",
       "      <td>2023-10-03-AAPL</td>\n",
       "      <td>2023-10-03</td>\n",
       "      <td>AAPL</td>\n",
       "      <td>172.23</td>\n",
       "      <td>0.04</td>\n",
       "      <td>0.85</td>\n",
       "      <td>0.11</td>\n",
       "      <td>0.63</td>\n",
       "    </tr>\n",
       "  </tbody>\n",
       "</table>\n",
       "</div>"
      ],
      "text/plain": [
       "       date_ticker        date ticker  stock_price   neg   neu   pos  compound\n",
       "0  2023-10-06-AAPL  2023-10-06   AAPL       175.58  0.05  0.79  0.16      0.67\n",
       "1  2023-10-05-AAPL  2023-10-05   AAPL       174.06  0.07  0.80  0.13      0.26\n",
       "2  2023-10-04-AAPL  2023-10-04   AAPL       172.59  0.06  0.82  0.12      0.51\n",
       "3  2023-10-03-AAPL  2023-10-03   AAPL       172.23  0.04  0.85  0.11      0.63"
      ]
     },
     "execution_count": 104,
     "metadata": {},
     "output_type": "execute_result"
    }
   ],
   "source": [
    "from database_handler import execute_query,create_connection,return_data_as_df\n",
    "from lookups import InputTypes\n",
    "db_session = create_connection()\n",
    "query = \"\"\" SELECT * FROM dw_reporting.agg_daily_stock_prices_vs_sentiments\n",
    "WHERE ticker = 'AAPL' \"\"\"\n",
    "\n",
    "df = return_data_as_df(query,InputTypes.SQL,db_session)\n",
    "df"
   ]
  },
  {
   "cell_type": "code",
   "execution_count": 105,
   "metadata": {},
   "outputs": [],
   "source": [
    "import numpy as np\n",
    "import pandas as pd\n",
    "from sklearn.preprocessing import MinMaxScaler\n",
    "from tensorflow.keras.models import Sequential\n",
    "from tensorflow.keras.layers import GRU, Dense\n",
    "from sklearn.model_selection import train_test_split\n",
    "\n",
    "# Load your dataset\n",
    "data = df.copy()\n",
    "\n",
    "# Extract relevant features\n",
    "X = data[['stock_price', 'compound']].values\n",
    "y = data['stock_price'].values\n",
    "\n",
    "# Normalize the data\n",
    "scaler = MinMaxScaler()\n",
    "X = scaler.fit_transform(X)\n",
    "\n",
    "# Create sequences for the GRU model\n",
    "sequence_length = 1  # Adjust as needed\n",
    "X_sequences, y_sequences = [], []\n",
    "\n",
    "for i in range(len(X) - sequence_length):\n",
    "    X_sequences.append(X[i:i+sequence_length])\n",
    "    y_sequences.append(y[i+sequence_length])\n",
    "\n",
    "X_sequences, y_sequences = np.array(X_sequences), np.array(y_sequences)\n",
    "\n",
    "# Split the data into training and testing sets\n",
    "X_train, X_test, y_train, y_test = train_test_split(X_sequences, y_sequences, test_size=0.2, random_state=42)\n",
    "\n",
    "\n"
   ]
  },
  {
   "cell_type": "code",
   "execution_count": 136,
   "metadata": {},
   "outputs": [
    {
     "data": {
      "text/plain": [
       "array([[[0.54626866, 0.        ]],\n",
       "\n",
       "       [[0.10746269, 0.6097561 ]]])"
      ]
     },
     "execution_count": 136,
     "metadata": {},
     "output_type": "execute_result"
    }
   ],
   "source": [
    "X_train"
   ]
  },
  {
   "cell_type": "code",
   "execution_count": 107,
   "metadata": {},
   "outputs": [
    {
     "name": "stdout",
     "output_type": "stream",
     "text": [
      "Epoch 1/50\n",
      "1/1 [==============================] - 1s 860ms/step - loss: 29727.8477\n",
      "Epoch 2/50\n",
      "1/1 [==============================] - 0s 4ms/step - loss: 29724.9785\n",
      "Epoch 3/50\n",
      "1/1 [==============================] - 0s 4ms/step - loss: 29722.1523\n",
      "Epoch 4/50\n",
      "1/1 [==============================] - 0s 5ms/step - loss: 29719.3320\n",
      "Epoch 5/50\n",
      "1/1 [==============================] - 0s 5ms/step - loss: 29716.5039\n",
      "Epoch 6/50\n",
      "1/1 [==============================] - 0s 4ms/step - loss: 29713.6758\n",
      "Epoch 7/50\n",
      "1/1 [==============================] - 0s 4ms/step - loss: 29710.8398\n",
      "Epoch 8/50\n",
      "1/1 [==============================] - 0s 5ms/step - loss: 29707.9961\n",
      "Epoch 9/50\n",
      "1/1 [==============================] - 0s 5ms/step - loss: 29705.1211\n",
      "Epoch 10/50\n",
      "1/1 [==============================] - 0s 4ms/step - loss: 29702.2227\n",
      "Epoch 11/50\n",
      "1/1 [==============================] - 0s 3ms/step - loss: 29699.3125\n",
      "Epoch 12/50\n",
      "1/1 [==============================] - 0s 6ms/step - loss: 29696.3906\n",
      "Epoch 13/50\n",
      "1/1 [==============================] - 0s 4ms/step - loss: 29693.4023\n",
      "Epoch 14/50\n",
      "1/1 [==============================] - 0s 4ms/step - loss: 29690.4082\n",
      "Epoch 15/50\n",
      "1/1 [==============================] - 0s 7ms/step - loss: 29687.4023\n",
      "Epoch 16/50\n",
      "1/1 [==============================] - 0s 4ms/step - loss: 29684.3828\n",
      "Epoch 17/50\n",
      "1/1 [==============================] - 0s 5ms/step - loss: 29681.3516\n",
      "Epoch 18/50\n",
      "1/1 [==============================] - 0s 4ms/step - loss: 29678.3047\n",
      "Epoch 19/50\n",
      "1/1 [==============================] - 0s 4ms/step - loss: 29675.2969\n",
      "Epoch 20/50\n",
      "1/1 [==============================] - 0s 4ms/step - loss: 29672.3008\n",
      "Epoch 21/50\n",
      "1/1 [==============================] - 0s 4ms/step - loss: 29669.2930\n",
      "Epoch 22/50\n",
      "1/1 [==============================] - 0s 4ms/step - loss: 29666.3242\n",
      "Epoch 23/50\n",
      "1/1 [==============================] - 0s 4ms/step - loss: 29663.3418\n",
      "Epoch 24/50\n",
      "1/1 [==============================] - 0s 4ms/step - loss: 29660.3789\n",
      "Epoch 25/50\n",
      "1/1 [==============================] - 0s 4ms/step - loss: 29657.3828\n",
      "Epoch 26/50\n",
      "1/1 [==============================] - 0s 5ms/step - loss: 29654.3691\n",
      "Epoch 27/50\n",
      "1/1 [==============================] - 0s 3ms/step - loss: 29651.3516\n",
      "Epoch 28/50\n",
      "1/1 [==============================] - 0s 3ms/step - loss: 29648.3418\n",
      "Epoch 29/50\n",
      "1/1 [==============================] - 0s 4ms/step - loss: 29645.3066\n",
      "Epoch 30/50\n",
      "1/1 [==============================] - 0s 4ms/step - loss: 29642.2109\n",
      "Epoch 31/50\n",
      "1/1 [==============================] - 0s 4ms/step - loss: 29639.1289\n",
      "Epoch 32/50\n",
      "1/1 [==============================] - 0s 4ms/step - loss: 29636.0098\n",
      "Epoch 33/50\n",
      "1/1 [==============================] - 0s 3ms/step - loss: 29632.8594\n",
      "Epoch 34/50\n",
      "1/1 [==============================] - 0s 4ms/step - loss: 29629.6777\n",
      "Epoch 35/50\n",
      "1/1 [==============================] - 0s 4ms/step - loss: 29626.4648\n",
      "Epoch 36/50\n",
      "1/1 [==============================] - 0s 3ms/step - loss: 29623.2344\n",
      "Epoch 37/50\n",
      "1/1 [==============================] - 0s 5ms/step - loss: 29620.0000\n",
      "Epoch 38/50\n",
      "1/1 [==============================] - 0s 4ms/step - loss: 29616.7344\n",
      "Epoch 39/50\n",
      "1/1 [==============================] - 0s 4ms/step - loss: 29613.4746\n",
      "Epoch 40/50\n",
      "1/1 [==============================] - 0s 4ms/step - loss: 29610.2031\n",
      "Epoch 41/50\n",
      "1/1 [==============================] - 0s 3ms/step - loss: 29606.8418\n",
      "Epoch 42/50\n",
      "1/1 [==============================] - 0s 4ms/step - loss: 29603.4570\n",
      "Epoch 43/50\n",
      "1/1 [==============================] - 0s 3ms/step - loss: 29600.0781\n",
      "Epoch 44/50\n",
      "1/1 [==============================] - 0s 4ms/step - loss: 29596.6543\n",
      "Epoch 45/50\n",
      "1/1 [==============================] - 0s 3ms/step - loss: 29593.1816\n",
      "Epoch 46/50\n",
      "1/1 [==============================] - 0s 4ms/step - loss: 29589.6602\n",
      "Epoch 47/50\n",
      "1/1 [==============================] - 0s 3ms/step - loss: 29586.0977\n",
      "Epoch 48/50\n",
      "1/1 [==============================] - 0s 3ms/step - loss: 29582.4844\n",
      "Epoch 49/50\n",
      "1/1 [==============================] - 0s 3ms/step - loss: 29578.8555\n",
      "Epoch 50/50\n",
      "1/1 [==============================] - 0s 4ms/step - loss: 29575.1992\n",
      "1/1 [==============================] - 0s 119ms/step - loss: 30005.3594\n",
      "Mean Squared Error on Test Data: 30005.359375\n",
      "1/1 [==============================] - 0s 102ms/step\n"
     ]
    }
   ],
   "source": [
    "# Build the GRU model\n",
    "model = Sequential()\n",
    "model.add(GRU(units=50, activation='relu', input_shape=(sequence_length, X_train.shape[2])))\n",
    "model.add(Dense(units=1))  # Output layer with one neuron for regression\n",
    "\n",
    "# Compile the model\n",
    "model.compile(optimizer='adam', loss='mean_squared_error')\n",
    "\n",
    "# Train the model\n",
    "model.fit(X_train, y_train, epochs=50, batch_size=32, validation_split=0)\n",
    "\n",
    "# Evaluate the model\n",
    "loss = model.evaluate(X_test, y_test)\n",
    "print(f'Mean Squared Error on Test Data: {loss}')\n",
    "\n",
    "# Make predictions\n",
    "predictions = model.predict(X_test)\n",
    "\n"
   ]
  },
  {
   "cell_type": "code",
   "execution_count": 108,
   "metadata": {},
   "outputs": [
    {
     "data": {
      "text/plain": [
       "array([[1.        , 1.        ],\n",
       "       [0.54626866, 0.        ],\n",
       "       [0.10746269, 0.6097561 ],\n",
       "       [0.        , 0.90243902]])"
      ]
     },
     "execution_count": 108,
     "metadata": {},
     "output_type": "execute_result"
    }
   ],
   "source": [
    "X"
   ]
  },
  {
   "cell_type": "code",
   "execution_count": 109,
   "metadata": {},
   "outputs": [
    {
     "data": {
      "text/plain": [
       "array([[0.8394536]], dtype=float32)"
      ]
     },
     "execution_count": 109,
     "metadata": {},
     "output_type": "execute_result"
    }
   ],
   "source": [
    "predictions"
   ]
  },
  {
   "cell_type": "code",
   "execution_count": 110,
   "metadata": {},
   "outputs": [
    {
     "data": {
      "text/plain": [
       "array([[[1., 1.]]])"
      ]
     },
     "execution_count": 110,
     "metadata": {},
     "output_type": "execute_result"
    }
   ],
   "source": [
    "X_test"
   ]
  },
  {
   "cell_type": "code",
   "execution_count": 87,
   "metadata": {},
   "outputs": [
    {
     "data": {
      "text/plain": [
       "array([[1.]])"
      ]
     },
     "execution_count": 87,
     "metadata": {},
     "output_type": "execute_result"
    }
   ],
   "source": [
    "X_test[:, -1, 0].reshape(-1, 1)"
   ]
  },
  {
   "cell_type": "code",
   "execution_count": 111,
   "metadata": {},
   "outputs": [
    {
     "data": {
      "text/plain": [
       "array([[1.        , 0.83945358]])"
      ]
     },
     "execution_count": 111,
     "metadata": {},
     "output_type": "execute_result"
    }
   ],
   "source": [
    "np.concatenate((X_test[:, -1, 0].reshape(-1, 1), predictions), axis=1)"
   ]
  },
  {
   "cell_type": "code",
   "execution_count": 115,
   "metadata": {},
   "outputs": [
    {
     "data": {
      "text/plain": [
       "array([0.60417597])"
      ]
     },
     "execution_count": 115,
     "metadata": {},
     "output_type": "execute_result"
    }
   ],
   "source": [
    "scaler.inverse_transform(np.concatenate((X_test[:, -1, 0].reshape(-1, 1), predictions), axis=1))[:,1]"
   ]
  },
  {
   "cell_type": "code",
   "execution_count": 116,
   "metadata": {},
   "outputs": [],
   "source": [
    "\n",
    "# If needed, inverse transform the predictions to get them back to the original scale\n",
    "predictions = scaler.inverse_transform(np.concatenate((X_test[:, -1, 0].reshape(-1, 1), predictions), axis=1))[:, 1]\n",
    "\n"
   ]
  },
  {
   "cell_type": "code",
   "execution_count": 123,
   "metadata": {},
   "outputs": [
    {
     "data": {
      "text/plain": [
       "array([0.60417597])"
      ]
     },
     "execution_count": 123,
     "metadata": {},
     "output_type": "execute_result"
    }
   ],
   "source": [
    "predictions"
   ]
  },
  {
   "cell_type": "code",
   "execution_count": 131,
   "metadata": {},
   "outputs": [
    {
     "data": {
      "text/plain": [
       "array([[174.06]])"
      ]
     },
     "execution_count": 131,
     "metadata": {},
     "output_type": "execute_result"
    }
   ],
   "source": [
    "y_test.reshape(-1, 1)"
   ]
  },
  {
   "cell_type": "code",
   "execution_count": 144,
   "metadata": {},
   "outputs": [
    {
     "data": {
      "text/plain": [
       "array([[[1., 1.]]])"
      ]
     },
     "execution_count": 144,
     "metadata": {},
     "output_type": "execute_result"
    }
   ],
   "source": [
    "X_test"
   ]
  },
  {
   "cell_type": "code",
   "execution_count": 138,
   "metadata": {},
   "outputs": [
    {
     "ename": "ValueError",
     "evalue": "non-broadcastable output operand with shape (1,1) doesn't match the broadcast shape (1,2)",
     "output_type": "error",
     "traceback": [
      "\u001b[1;31m---------------------------------------------------------------------------\u001b[0m",
      "\u001b[1;31mValueError\u001b[0m                                Traceback (most recent call last)",
      "\u001b[1;32mc:\\Users\\user\\OneDrive\\Documents\\SE_Factory\\FSD\\Final_Project\\usa_recession_analysis\\gru_model.ipynb Cell 14\u001b[0m line \u001b[0;36m1\n\u001b[1;32m----> <a href='vscode-notebook-cell:/c%3A/Users/user/OneDrive/Documents/SE_Factory/FSD/Final_Project/usa_recession_analysis/gru_model.ipynb#X21sZmlsZQ%3D%3D?line=0'>1</a>\u001b[0m scaler\u001b[39m.\u001b[39;49minverse_transform(y_test\u001b[39m.\u001b[39;49mreshape(\u001b[39m-\u001b[39;49m\u001b[39m1\u001b[39;49m, \u001b[39m1\u001b[39;49m))\n",
      "File \u001b[1;32mc:\\Users\\user\\anaconda3\\envs\\sefactory_env\\lib\\site-packages\\sklearn\\preprocessing\\_data.py:547\u001b[0m, in \u001b[0;36mMinMaxScaler.inverse_transform\u001b[1;34m(self, X)\u001b[0m\n\u001b[0;32m    541\u001b[0m check_is_fitted(\u001b[39mself\u001b[39m)\n\u001b[0;32m    543\u001b[0m X \u001b[39m=\u001b[39m check_array(\n\u001b[0;32m    544\u001b[0m     X, copy\u001b[39m=\u001b[39m\u001b[39mself\u001b[39m\u001b[39m.\u001b[39mcopy, dtype\u001b[39m=\u001b[39mFLOAT_DTYPES, force_all_finite\u001b[39m=\u001b[39m\u001b[39m\"\u001b[39m\u001b[39mallow-nan\u001b[39m\u001b[39m\"\u001b[39m\n\u001b[0;32m    545\u001b[0m )\n\u001b[1;32m--> 547\u001b[0m X \u001b[39m-\u001b[39m\u001b[39m=\u001b[39m \u001b[39mself\u001b[39m\u001b[39m.\u001b[39mmin_\n\u001b[0;32m    548\u001b[0m X \u001b[39m/\u001b[39m\u001b[39m=\u001b[39m \u001b[39mself\u001b[39m\u001b[39m.\u001b[39mscale_\n\u001b[0;32m    549\u001b[0m \u001b[39mreturn\u001b[39;00m X\n",
      "\u001b[1;31mValueError\u001b[0m: non-broadcastable output operand with shape (1,1) doesn't match the broadcast shape (1,2)"
     ]
    }
   ],
   "source": [
    "scaler.inverse_transform(y_test.reshape(-1, 1))"
   ]
  },
  {
   "cell_type": "code",
   "execution_count": 148,
   "metadata": {},
   "outputs": [
    {
     "name": "stdout",
     "output_type": "stream",
     "text": [
      "   Predicted\n",
      "1   0.604176\n"
     ]
    }
   ],
   "source": [
    "comparison = pd.DataFrame({'Predicted': predictions[-1]}, index=[1])\n",
    "print(comparison)"
   ]
  },
  {
   "cell_type": "code",
   "execution_count": 121,
   "metadata": {},
   "outputs": [
    {
     "ename": "ValueError",
     "evalue": "non-broadcastable output operand with shape (1,1) doesn't match the broadcast shape (1,2)",
     "output_type": "error",
     "traceback": [
      "\u001b[1;31m---------------------------------------------------------------------------\u001b[0m",
      "\u001b[1;31mValueError\u001b[0m                                Traceback (most recent call last)",
      "\u001b[1;32mc:\\Users\\user\\OneDrive\\Documents\\SE_Factory\\FSD\\Final_Project\\usa_recession_analysis\\gru_model.ipynb Cell 13\u001b[0m line \u001b[0;36m1\n\u001b[1;32m----> <a href='vscode-notebook-cell:/c%3A/Users/user/OneDrive/Documents/SE_Factory/FSD/Final_Project/usa_recession_analysis/gru_model.ipynb#X20sZmlsZQ%3D%3D?line=0'>1</a>\u001b[0m comparison \u001b[39m=\u001b[39m pd\u001b[39m.\u001b[39mDataFrame({\u001b[39m'\u001b[39m\u001b[39mActual\u001b[39m\u001b[39m'\u001b[39m: scaler\u001b[39m.\u001b[39;49minverse_transform(y_test\u001b[39m.\u001b[39;49mreshape(\u001b[39m-\u001b[39;49m\u001b[39m1\u001b[39;49m, \u001b[39m1\u001b[39;49m))\u001b[39m.\u001b[39mflatten(), \u001b[39m'\u001b[39m\u001b[39mPredicted\u001b[39m\u001b[39m'\u001b[39m: predictions[\u001b[39m-\u001b[39m\u001b[39m1\u001b[39m]})\n\u001b[0;32m      <a href='vscode-notebook-cell:/c%3A/Users/user/OneDrive/Documents/SE_Factory/FSD/Final_Project/usa_recession_analysis/gru_model.ipynb#X20sZmlsZQ%3D%3D?line=1'>2</a>\u001b[0m \u001b[39mprint\u001b[39m(comparison)\n",
      "File \u001b[1;32mc:\\Users\\user\\anaconda3\\envs\\sefactory_env\\lib\\site-packages\\sklearn\\preprocessing\\_data.py:547\u001b[0m, in \u001b[0;36mMinMaxScaler.inverse_transform\u001b[1;34m(self, X)\u001b[0m\n\u001b[0;32m    541\u001b[0m check_is_fitted(\u001b[39mself\u001b[39m)\n\u001b[0;32m    543\u001b[0m X \u001b[39m=\u001b[39m check_array(\n\u001b[0;32m    544\u001b[0m     X, copy\u001b[39m=\u001b[39m\u001b[39mself\u001b[39m\u001b[39m.\u001b[39mcopy, dtype\u001b[39m=\u001b[39mFLOAT_DTYPES, force_all_finite\u001b[39m=\u001b[39m\u001b[39m\"\u001b[39m\u001b[39mallow-nan\u001b[39m\u001b[39m\"\u001b[39m\n\u001b[0;32m    545\u001b[0m )\n\u001b[1;32m--> 547\u001b[0m X \u001b[39m-\u001b[39m\u001b[39m=\u001b[39m \u001b[39mself\u001b[39m\u001b[39m.\u001b[39mmin_\n\u001b[0;32m    548\u001b[0m X \u001b[39m/\u001b[39m\u001b[39m=\u001b[39m \u001b[39mself\u001b[39m\u001b[39m.\u001b[39mscale_\n\u001b[0;32m    549\u001b[0m \u001b[39mreturn\u001b[39;00m X\n",
      "\u001b[1;31mValueError\u001b[0m: non-broadcastable output operand with shape (1,1) doesn't match the broadcast shape (1,2)"
     ]
    }
   ],
   "source": [
    "comparison = pd.DataFrame({'Actual': scaler.inverse_transform(y_test.reshape(-1, 1)).flatten(), 'Predicted': predictions[-1]})\n",
    "print(comparison)"
   ]
  },
  {
   "cell_type": "code",
   "execution_count": 118,
   "metadata": {},
   "outputs": [
    {
     "ename": "ValueError",
     "evalue": "non-broadcastable output operand with shape (1,1) doesn't match the broadcast shape (1,2)",
     "output_type": "error",
     "traceback": [
      "\u001b[1;31m---------------------------------------------------------------------------\u001b[0m",
      "\u001b[1;31mValueError\u001b[0m                                Traceback (most recent call last)",
      "\u001b[1;32mc:\\Users\\user\\OneDrive\\Documents\\SE_Factory\\FSD\\Final_Project\\usa_recession_analysis\\gru_model.ipynb Cell 13\u001b[0m line \u001b[0;36m2\n\u001b[0;32m      <a href='vscode-notebook-cell:/c%3A/Users/user/OneDrive/Documents/SE_Factory/FSD/Final_Project/usa_recession_analysis/gru_model.ipynb#X15sZmlsZQ%3D%3D?line=0'>1</a>\u001b[0m \u001b[39m# Compare predictions with actual values\u001b[39;00m\n\u001b[1;32m----> <a href='vscode-notebook-cell:/c%3A/Users/user/OneDrive/Documents/SE_Factory/FSD/Final_Project/usa_recession_analysis/gru_model.ipynb#X15sZmlsZQ%3D%3D?line=1'>2</a>\u001b[0m comparison \u001b[39m=\u001b[39m pd\u001b[39m.\u001b[39mDataFrame({\u001b[39m'\u001b[39m\u001b[39mActual\u001b[39m\u001b[39m'\u001b[39m: scaler\u001b[39m.\u001b[39;49minverse_transform(y_test\u001b[39m.\u001b[39;49mreshape(\u001b[39m-\u001b[39;49m\u001b[39m1\u001b[39;49m, \u001b[39m1\u001b[39;49m))\u001b[39m.\u001b[39mflatten(), \u001b[39m'\u001b[39m\u001b[39mPredicted\u001b[39m\u001b[39m'\u001b[39m: predictions})\n\u001b[0;32m      <a href='vscode-notebook-cell:/c%3A/Users/user/OneDrive/Documents/SE_Factory/FSD/Final_Project/usa_recession_analysis/gru_model.ipynb#X15sZmlsZQ%3D%3D?line=2'>3</a>\u001b[0m \u001b[39mprint\u001b[39m(comparison)\n",
      "File \u001b[1;32mc:\\Users\\user\\anaconda3\\envs\\sefactory_env\\lib\\site-packages\\sklearn\\preprocessing\\_data.py:547\u001b[0m, in \u001b[0;36mMinMaxScaler.inverse_transform\u001b[1;34m(self, X)\u001b[0m\n\u001b[0;32m    541\u001b[0m check_is_fitted(\u001b[39mself\u001b[39m)\n\u001b[0;32m    543\u001b[0m X \u001b[39m=\u001b[39m check_array(\n\u001b[0;32m    544\u001b[0m     X, copy\u001b[39m=\u001b[39m\u001b[39mself\u001b[39m\u001b[39m.\u001b[39mcopy, dtype\u001b[39m=\u001b[39mFLOAT_DTYPES, force_all_finite\u001b[39m=\u001b[39m\u001b[39m\"\u001b[39m\u001b[39mallow-nan\u001b[39m\u001b[39m\"\u001b[39m\n\u001b[0;32m    545\u001b[0m )\n\u001b[1;32m--> 547\u001b[0m X \u001b[39m-\u001b[39m\u001b[39m=\u001b[39m \u001b[39mself\u001b[39m\u001b[39m.\u001b[39mmin_\n\u001b[0;32m    548\u001b[0m X \u001b[39m/\u001b[39m\u001b[39m=\u001b[39m \u001b[39mself\u001b[39m\u001b[39m.\u001b[39mscale_\n\u001b[0;32m    549\u001b[0m \u001b[39mreturn\u001b[39;00m X\n",
      "\u001b[1;31mValueError\u001b[0m: non-broadcastable output operand with shape (1,1) doesn't match the broadcast shape (1,2)"
     ]
    }
   ],
   "source": [
    "\n",
    "# Compare predictions with actual values\n",
    "comparison = pd.DataFrame({'Actual': scaler.inverse_transform(y_test.reshape(-1, 1)).flatten(), 'Predicted': predictions})\n",
    "print(comparison)\n"
   ]
  }
 ],
 "metadata": {
  "kernelspec": {
   "display_name": "sefactory_env",
   "language": "python",
   "name": "python3"
  },
  "language_info": {
   "codemirror_mode": {
    "name": "ipython",
    "version": 3
   },
   "file_extension": ".py",
   "mimetype": "text/x-python",
   "name": "python",
   "nbconvert_exporter": "python",
   "pygments_lexer": "ipython3",
   "version": "3.10.9"
  }
 },
 "nbformat": 4,
 "nbformat_minor": 2
}
