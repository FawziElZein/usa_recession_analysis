{
 "cells": [
  {
   "cell_type": "code",
   "execution_count": 1,
   "metadata": {},
   "outputs": [
    {
     "name": "stdout",
     "output_type": "stream",
     "text": [
      "latest_date"
     ]
    },
    {
     "name": "stderr",
     "output_type": "stream",
     "text": [
      "c:\\Users\\user\\OneDrive\\Documents\\SE_Factory\\FSD\\Final_Project\\usa_recession_analysis\\database_handler.py:64: UserWarning: pandas only supports SQLAlchemy connectable (engine/connection) or database string URI or sqlite3 DBAPI2 connection. Other DBAPI2 objects are not tested. Please consider using SQLAlchemy.\n",
      "  return_dataframe = pd.read_sql_query(con= db_session, sql= file_executor)\n",
      "c:\\Users\\user\\OneDrive\\Documents\\SE_Factory\\FSD\\Final_Project\\usa_recession_analysis\\database_handler.py:64: UserWarning: pandas only supports SQLAlchemy connectable (engine/connection) or database string URI or sqlite3 DBAPI2 connection. Other DBAPI2 objects are not tested. Please consider using SQLAlchemy.\n",
      "  return_dataframe = pd.read_sql_query(con= db_session, sql= file_executor)\n"
     ]
    },
    {
     "name": "stdout",
     "output_type": "stream",
     "text": [
      "\n",
      "2023-10-09 06:32:00\n"
     ]
    }
   ],
   "source": [
    "# from posthook import execute_posthook\n",
    "\n",
    "!python main.py"
   ]
  },
  {
   "cell_type": "code",
   "execution_count": 19,
   "metadata": {},
   "outputs": [
    {
     "name": "stdout",
     "output_type": "stream",
     "text": [
      "           _golden _unit_state  _trusted_judgments   _last_judgment_at  \\\n",
      "_unit_id                                                                 \n",
      "766192484    False   finalized                   1 2015-08-04 21:17:00   \n",
      "766192485    False   finalized                   1 2015-08-04 21:20:00   \n",
      "766192486    False   finalized                   1 2015-08-04 21:14:00   \n",
      "766192487    False   finalized                   1 2015-08-04 21:08:00   \n",
      "766192488    False   finalized                   1 2015-08-04 21:26:00   \n",
      "...            ...         ...                 ...                 ...   \n",
      "766197482    False   finalized                   1 2015-08-05 06:05:00   \n",
      "766197483    False   finalized                   1 2015-08-05 05:57:00   \n",
      "766197484    False   finalized                   1 2015-08-05 05:10:00   \n",
      "766197485    False   finalized                   1 2015-08-05 06:08:00   \n",
      "766197486    False   finalized                   1 2015-08-05 05:04:00   \n",
      "\n",
      "           audience  audience:confidence      bias  bias:confidence  message  \\\n",
      "_unit_id                                                                       \n",
      "766192484  national                  1.0  partisan              1.0   policy   \n",
      "766192485  national                  1.0  partisan              1.0   attack   \n",
      "766192486  national                  1.0   neutral              1.0  support   \n",
      "766192487  national                  1.0   neutral              1.0   policy   \n",
      "766192488  national                  1.0  partisan              1.0   policy   \n",
      "...             ...                  ...       ...              ...      ...   \n",
      "766197482  national                  1.0  partisan              1.0  support   \n",
      "766197483  national                  1.0  partisan              1.0   policy   \n",
      "766197484  national                  1.0   neutral              1.0   policy   \n",
      "766197485  national                  1.0   neutral              1.0    media   \n",
      "766197486  national                  1.0   neutral              1.0  support   \n",
      "\n",
      "           message:confidence  orig__golden  audience_gold  bias_gold  \\\n",
      "_unit_id                                                                \n",
      "766192484                 1.0           NaN            NaN        NaN   \n",
      "766192485                 1.0           NaN            NaN        NaN   \n",
      "766192486                 1.0           NaN            NaN        NaN   \n",
      "766192487                 1.0           NaN            NaN        NaN   \n",
      "766192488                 1.0           NaN            NaN        NaN   \n",
      "...                       ...           ...            ...        ...   \n",
      "766197482                 1.0           NaN            NaN        NaN   \n",
      "766197483                 1.0           NaN            NaN        NaN   \n",
      "766197484                 1.0           NaN            NaN        NaN   \n",
      "766197485                 1.0           NaN            NaN        NaN   \n",
      "766197486                 1.0           NaN            NaN        NaN   \n",
      "\n",
      "             bioid                                              embed  \\\n",
      "_unit_id                                                                \n",
      "766192484  R000596  <blockquote class=\"twitter-tweet\" width=\"450\">...   \n",
      "766192485  M000355  <blockquote class=\"twitter-tweet\" width=\"450\">...   \n",
      "766192486  S001180  <blockquote class=\"twitter-tweet\" width=\"450\">...   \n",
      "766192487  C000880  <blockquote class=\"twitter-tweet\" width=\"450\">...   \n",
      "766192488  U000038  <blockquote class=\"twitter-tweet\" width=\"450\">...   \n",
      "...            ...                                                ...   \n",
      "766197482  Y000065  <div id=\"fb-root\"></div> <script>(function(d, ...   \n",
      "766197483  Y000065  <div id=\"fb-root\"></div> <script>(function(d, ...   \n",
      "766197484  Y000065  <div id=\"fb-root\"></div> <script>(function(d, ...   \n",
      "766197485  Y000065  <div id=\"fb-root\"></div> <script>(function(d, ...   \n",
      "766197486  Y000065  <div id=\"fb-root\"></div> <script>(function(d, ...   \n",
      "\n",
      "                                          id  \\\n",
      "_unit_id                                       \n",
      "766192484                        3.83249E+17   \n",
      "766192485                        3.11208E+17   \n",
      "766192486                        3.39069E+17   \n",
      "766192487                        2.98528E+17   \n",
      "766192488                        4.07643E+17   \n",
      "...                                      ...   \n",
      "766197482    563532937006022_939071892785456   \n",
      "766197483    563532937006022_936080056417973   \n",
      "766197484    563532937006022_905547326137913   \n",
      "766197485  563532937006022_10101529848812566   \n",
      "766197486    563532937006022_730010240358290   \n",
      "\n",
      "                                                      label  message_gold  \\\n",
      "_unit_id                                                                    \n",
      "766192484    From: Trey Radel (Representative from Florida)           NaN   \n",
      "766192485     From: Mitch McConnell (Senator from Kentucky)           NaN   \n",
      "766192486  From: Kurt Schrader (Representative from Oregon)           NaN   \n",
      "766192487          From: Michael Crapo (Senator from Idaho)           NaN   \n",
      "766192488          From: Mark Udall (Senator from Colorado)           NaN   \n",
      "...                                                     ...           ...   \n",
      "766197482      From: Ted Yoho (Representative from Florida)           NaN   \n",
      "766197483      From: Ted Yoho (Representative from Florida)           NaN   \n",
      "766197484      From: Ted Yoho (Representative from Florida)           NaN   \n",
      "766197485      From: Ted Yoho (Representative from Florida)           NaN   \n",
      "766197486      From: Ted Yoho (Representative from Florida)           NaN   \n",
      "\n",
      "             source                                               text  \n",
      "_unit_id                                                                \n",
      "766192484   twitter  RT @nowthisnews: Rep. Trey Radel (R- #FL) slam...  \n",
      "766192485   twitter  VIDEO - #Obamacare:  Full of Higher Costs and ...  \n",
      "766192486   twitter  Please join me today in remembering our fallen...  \n",
      "766192487   twitter  RT @SenatorLeahy: 1st step toward Senate debat...  \n",
      "766192488   twitter  .@amazon delivery #drones show need to update ...  \n",
      "...             ...                                                ...  \n",
      "766197482  facebook  I applaud Governor PerryÛªs recent decision t...  \n",
      "766197483  facebook  Today, I voted in favor of H.R. 5016 - Financi...  \n",
      "766197484  facebook  (Taken from posted WOKV interview)   Congressm...  \n",
      "766197485  facebook  Join me next week for a town hall in Ocala! I'...  \n",
      "766197486  facebook  Foreign Affairs Committee Hearing on Syria. I ...  \n",
      "\n",
      "[5000 rows x 20 columns]\n"
     ]
    }
   ],
   "source": [
    "from politicians_speeches_and_social_media_posts import get_politician_social_media_posts\n",
    "from database_handler import create_connection\n",
    "get_politician_social_media_posts(create_connection())"
   ]
  },
  {
   "cell_type": "code",
   "execution_count": null,
   "metadata": {},
   "outputs": [],
   "source": []
  },
  {
   "cell_type": "code",
   "execution_count": null,
   "metadata": {},
   "outputs": [],
   "source": [
    "from yahoofinancials import YahooFinancials\n",
    "import pandas as pd\n",
    "from datetime import datetime, date, time,timedelta\n",
    "import pytz\n",
    "\n",
    "# tickers = ['META','AMZN','AAPL','NFLX','GOOGL']\n",
    "tickers = ['AMZN']\n",
    "\n",
    "start_date = date(2023,10,11)\n",
    "start_date = start_date.strftime('%Y-%m-%d')\n",
    "print(\"start_date\")\n",
    "print(start_date)\n",
    "end_date = datetime.today() + timedelta(days=1)\n",
    "end_date = end_date.strftime('%Y-%m-%d')\n",
    "print(\"end_date\")\n",
    "print(end_date)\n",
    "data = {}\n",
    "for ticker in tickers:\n",
    "    yahoo_financials = YahooFinancials(ticker)\n",
    "    historical_data = yahoo_financials.get_historical_price_data(start_date, end_date, \"daily\")\n",
    "    if historical_data[ticker]:\n",
    "        data[ticker] = historical_data[ticker]['prices']\n",
    "dfs = []\n",
    "titles = []\n",
    "for ticker, prices in data.items():\n",
    "    df = pd.DataFrame(prices)\n",
    "    # parse_date_columns(df)\n",
    "    df = df.drop('date', axis=1).set_index('formatted_date')\n",
    "    df['volume'] = df['volume'].astype(float)\n",
    "    # title = f'{get_coin_name(ticker[:-4])}_historical_price'\n",
    "    # titles.append(title)\n",
    "    dfs.append(df)\n",
    "        "
   ]
  },
  {
   "cell_type": "code",
   "execution_count": null,
   "metadata": {},
   "outputs": [],
   "source": [
    "dfs"
   ]
  },
  {
   "cell_type": "code",
   "execution_count": null,
   "metadata": {},
   "outputs": [],
   "source": [
    "from database_handler import create_connection\n",
    "from webscrape import get_last_news_date\n",
    "db_session = create_connection()\n",
    "\n",
    "get_last_news_date(db_session)"
   ]
  },
  {
   "cell_type": "code",
   "execution_count": null,
   "metadata": {},
   "outputs": [],
   "source": [
    "start_date"
   ]
  },
  {
   "cell_type": "code",
   "execution_count": null,
   "metadata": {},
   "outputs": [],
   "source": [
    "start_date = datetime.strptime('2023-01-01', '%Y-%m-%d').replace(tzinfo=pytz.UTC)\n",
    "start_date"
   ]
  },
  {
   "cell_type": "code",
   "execution_count": null,
   "metadata": {},
   "outputs": [],
   "source": [
    "from webscrape import get_states_webscrape_data_from_fred_economic\n",
    "from datetime import datetime\n",
    "db_session = create_connection()\n",
    "get_states_webscrape_data_from_fred_economic(db_session,datetime(2007,1,1),False)"
   ]
  },
  {
   "cell_type": "code",
   "execution_count": null,
   "metadata": {},
   "outputs": [],
   "source": [
    "end_date = datetime.today()\n",
    "print(end_date)\n",
    "local_tz = pytz.timezone('Asia/Beirut')\n",
    "utc_datetime = local_tz.localize(end_date).astimezone(pytz.UTC)\n",
    "print(utc_datetime)\n",
    "utc_date = utc_datetime.date()\n",
    "utc_date"
   ]
  },
  {
   "cell_type": "code",
   "execution_count": null,
   "metadata": {},
   "outputs": [],
   "source": [
    "datetime.today().date().strftime('%Y-%m-%d')"
   ]
  },
  {
   "cell_type": "code",
   "execution_count": null,
   "metadata": {},
   "outputs": [],
   "source": [
    "from database_handler import return_query,create_connection\n",
    "db_session = create_connection()\n",
    "query = \"\"\"SELECT EXISTS (\n",
    "   SELECT 1\n",
    "   FROM information_schema.tables\n",
    "   WHERE table_schema = 'dw_reporting'\n",
    "     AND table_name = 'dim_faang_stock_price'\n",
    ");\"\"\"\n",
    "return_query(db_session = db_session,query =  query)[0][0]\n"
   ]
  },
  {
   "cell_type": "code",
   "execution_count": null,
   "metadata": {},
   "outputs": [],
   "source": [
    "latest_date_query = f\"\"\"\n",
    "SELECT\n",
    "    MAX(formatted_date)\n",
    "FROM dw_reporting.dim_faang_stock_price\n",
    "\"\"\"\n",
    "latest_date = return_query(db_session = db_session,query = latest_date_query)[0][0]\n",
    "latest_date"
   ]
  },
  {
   "cell_type": "code",
   "execution_count": null,
   "metadata": {},
   "outputs": [],
   "source": [
    "from datetime import timedelta\n",
    "latest_date+ timedelta(days=1)"
   ]
  },
  {
   "cell_type": "code",
   "execution_count": null,
   "metadata": {},
   "outputs": [],
   "source": [
    "news_df = scrape_website(etl_date= datetime(2023, 10, 6))"
   ]
  }
 ],
 "metadata": {
  "kernelspec": {
   "display_name": "sefactory_env",
   "language": "python",
   "name": "python3"
  },
  "language_info": {
   "codemirror_mode": {
    "name": "ipython",
    "version": 3
   },
   "file_extension": ".py",
   "mimetype": "text/x-python",
   "name": "python",
   "nbconvert_exporter": "python",
   "pygments_lexer": "ipython3",
   "version": "3.10.9"
  }
 },
 "nbformat": 4,
 "nbformat_minor": 2
}
