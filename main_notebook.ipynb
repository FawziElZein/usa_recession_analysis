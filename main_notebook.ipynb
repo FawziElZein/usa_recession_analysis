{
 "cells": [
  {
   "cell_type": "code",
   "execution_count": 2,
   "metadata": {},
   "outputs": [
    {
     "name": "stderr",
     "output_type": "stream",
     "text": [
      "2023-10-29 09:20:59,522 - INFO - posthook: start\n",
      "2023-10-29 09:20:59,665 - INFO - posthook: Executed successfully\n"
     ]
    }
   ],
   "source": [
    "from posthook import execute_posthook\n",
    "execute_posthook()"
   ]
  },
  {
   "cell_type": "code",
   "execution_count": 4,
   "metadata": {},
   "outputs": [
    {
     "name": "stdout",
     "output_type": "stream",
     "text": [
      "^C\n"
     ]
    }
   ],
   "source": [
    "!python main.py"
   ]
  },
  {
   "cell_type": "code",
   "execution_count": 5,
   "metadata": {},
   "outputs": [
    {
     "name": "stderr",
     "output_type": "stream",
     "text": [
      "INFO:root:INFO\n",
      "INFO:root:hook : FAANG stock prices successfully fetched\n"
     ]
    }
   ],
   "source": [
    "from stock_market_data_handler import get_stock_market_prices\n",
    "from database_handler import create_connection\n",
    "from datetime import datetime\n",
    "\n",
    "get_stock_market_prices(db_session = create_connection(),etl_datetime = datetime(2012,1,1))"
   ]
  },
  {
   "cell_type": "code",
   "execution_count": 2,
   "metadata": {},
   "outputs": [
    {
     "name": "stderr",
     "output_type": "stream",
     "text": [
      "INFO:root:hook : U.S.A state wise econmic dataset successfully fetched from Fred Economic Website\n"
     ]
    }
   ],
   "source": [
    "from webscrape_data_handler import get_politician_speeches\n",
    "from database_handler import create_connection\n",
    "from datetime import datetime\n",
    "get_politician_speeches(create_connection(),datetime(2022,10,10))"
   ]
  }
 ],
 "metadata": {
  "kernelspec": {
   "display_name": "sefactory_env",
   "language": "python",
   "name": "python3"
  },
  "language_info": {
   "codemirror_mode": {
    "name": "ipython",
    "version": 3
   },
   "file_extension": ".py",
   "mimetype": "text/x-python",
   "name": "python",
   "nbconvert_exporter": "python",
   "pygments_lexer": "ipython3",
   "version": "3.10.9"
  }
 },
 "nbformat": 4,
 "nbformat_minor": 2
}
