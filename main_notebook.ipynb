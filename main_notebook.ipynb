{
 "cells": [
  {
   "cell_type": "code",
   "execution_count": 1,
   "metadata": {},
   "outputs": [
    {
     "name": "stdout",
     "output_type": "stream",
     "text": [
      "   ticker        date      time  ...    neu    pos  compound\n",
      "0    AMZN  2023-10-07  08:45:00  ...  0.905  0.054    0.1280\n",
      "1    AMZN  2023-10-07  08:00:00  ...  0.659  0.341    0.9186\n",
      "2    AMZN  2023-10-07  06:30:00  ...  0.787  0.213    0.8176\n",
      "3    AMZN  2023-10-06  17:31:00  ...  0.763  0.211    0.9890\n",
      "4    AMZN  2023-10-06  17:24:00  ...  0.743  0.115   -0.1027\n",
      "5    AMZN  2023-10-06  17:21:00  ...  0.905  0.095    0.4019\n",
      "6    AMZN  2023-10-06  17:00:00  ...  0.708  0.203    0.3400\n",
      "7    AMZN  2023-10-06  15:25:00  ...  0.250  0.550    0.4939\n",
      "8    AMZN  2023-10-06  15:24:00  ...  0.746  0.254    0.1779\n",
      "9    AMZN  2023-10-06  15:02:00  ...  0.610  0.390    0.9774\n",
      "10   AMZN  2023-10-06  14:56:00  ...  0.727  0.196    0.5106\n",
      "11   AMZN  2023-10-06  13:00:00  ...  0.814  0.186    0.4939\n",
      "12   AMZN  2023-10-06  12:28:00  ...  0.847  0.069   -0.1027\n",
      "13   AMZN  2023-10-06  12:25:00  ...  0.733  0.216    0.9975\n",
      "14   AMZN  2023-10-06  11:35:00  ...  0.841  0.159    0.1779\n",
      "15   AMZN  2023-10-06  10:20:00  ...  0.580  0.353    0.9451\n",
      "16   AMZN  2023-10-06  09:53:00  ...  0.623  0.377    0.9628\n",
      "17   AMZN  2023-10-06  09:15:00  ...  0.779  0.131    0.9644\n",
      "18   AMZN  2023-10-06  09:00:00  ...  0.757  0.225    0.9987\n",
      "19   AMZN  2023-10-06  08:15:00  ...  0.928  0.072    0.3400\n",
      "20   AMZN  2023-10-06  08:00:00  ...  0.674  0.270    0.9412\n",
      "21   AMZN  2023-10-06  08:00:00  ...  0.809  0.154    0.5859\n",
      "22   AMZN  2023-10-06  07:10:00  ...  0.634  0.366    0.9423\n",
      "23   AMZN  2023-10-06  06:05:00  ...  0.724  0.175    0.3979\n",
      "24   AMZN  2023-10-06  05:50:00  ...  0.920  0.080    0.3400\n",
      "25   AMZN  2023-10-06  05:30:00  ...  0.826  0.108    0.1710\n",
      "26   AMZN  2023-10-06  05:02:00  ...  0.649  0.228    0.7758\n",
      "\n",
      "[27 rows x 8 columns]\n"
     ]
    },
    {
     "name": "stderr",
     "output_type": "stream",
     "text": [
      "c:\\Users\\user\\OneDrive\\Documents\\SE_Factory\\FSD\\Final_Project\\usa_recession_analysis\\database_handler.py:64: UserWarning: pandas only supports SQLAlchemy connectable (engine/connection) or database string URI or sqlite3 DBAPI2 connection. Other DBAPI2 objects are not tested. Please consider using SQLAlchemy.\n",
      "  return_dataframe = pd.read_sql_query(con= db_session, sql= file_executor)\n",
      "c:\\Users\\user\\OneDrive\\Documents\\SE_Factory\\FSD\\Final_Project\\usa_recession_analysis\\database_handler.py:64: UserWarning: pandas only supports SQLAlchemy connectable (engine/connection) or database string URI or sqlite3 DBAPI2 connection. Other DBAPI2 objects are not tested. Please consider using SQLAlchemy.\n",
      "  return_dataframe = pd.read_sql_query(con= db_session, sql= file_executor)\n"
     ]
    }
   ],
   "source": [
    "!python main.py"
   ]
  },
  {
   "cell_type": "code",
   "execution_count": null,
   "metadata": {},
   "outputs": [
    {
     "data": {
      "text/plain": [
       "(['finviz'],\n",
       " ['financial_news'],\n",
       " [Empty DataFrame\n",
       "  Columns: [ticker, date, time, text]\n",
       "  Index: []])"
      ]
     },
     "execution_count": 1,
     "metadata": {},
     "output_type": "execute_result"
    }
   ],
   "source": [
    "from prehook import execute_prehook\n",
    "execute_prehook()"
   ]
  },
  {
   "cell_type": "code",
   "execution_count": null,
   "metadata": {},
   "outputs": [
    {
     "data": {
      "text/plain": [
       "'WebScrapeDFTemplate'"
      ]
     },
     "execution_count": 5,
     "metadata": {},
     "output_type": "execute_result"
    }
   ],
   "source": [
    "from lookups import DateField,WebScrapeDFTemplate\n",
    "\n",
    "WebScrapeDFTemplate.__name__"
   ]
  },
  {
   "cell_type": "code",
   "execution_count": null,
   "metadata": {},
   "outputs": [],
   "source": [
    "from webscrape import scrape_website\n",
    "from datetime import datetime"
   ]
  },
  {
   "cell_type": "code",
   "execution_count": null,
   "metadata": {},
   "outputs": [],
   "source": [
    "news_df = scrape_website(etl_date= datetime(2023, 10, 6))"
   ]
  },
  {
   "cell_type": "code",
   "execution_count": null,
   "metadata": {},
   "outputs": [
    {
     "data": {
      "text/html": [
       "<div>\n",
       "<style scoped>\n",
       "    .dataframe tbody tr th:only-of-type {\n",
       "        vertical-align: middle;\n",
       "    }\n",
       "\n",
       "    .dataframe tbody tr th {\n",
       "        vertical-align: top;\n",
       "    }\n",
       "\n",
       "    .dataframe thead th {\n",
       "        text-align: right;\n",
       "    }\n",
       "</style>\n",
       "<table border=\"1\" class=\"dataframe\">\n",
       "  <thead>\n",
       "    <tr style=\"text-align: right;\">\n",
       "      <th></th>\n",
       "      <th>news_id</th>\n",
       "      <th>ticker</th>\n",
       "      <th>date</th>\n",
       "      <th>time</th>\n",
       "      <th>text</th>\n",
       "    </tr>\n",
       "  </thead>\n",
       "  <tbody>\n",
       "    <tr>\n",
       "      <th>0</th>\n",
       "      <td>0</td>\n",
       "      <td>AMZN</td>\n",
       "      <td>2023-10-06</td>\n",
       "      <td>10:20AM</td>\n",
       "      <td>Amazon leaked documents show an exciting chang...</td>\n",
       "    </tr>\n",
       "    <tr>\n",
       "      <th>1</th>\n",
       "      <td>1</td>\n",
       "      <td>AMZN</td>\n",
       "      <td>2023-10-06</td>\n",
       "      <td>09:53AM</td>\n",
       "      <td>2 Stock-Split Artificial Intelligence (AI) Sto...</td>\n",
       "    </tr>\n",
       "    <tr>\n",
       "      <th>2</th>\n",
       "      <td>2</td>\n",
       "      <td>AMZN</td>\n",
       "      <td>2023-10-06</td>\n",
       "      <td>09:15AM</td>\n",
       "      <td>Hollywood strikes have cost the US economy 45,...</td>\n",
       "    </tr>\n",
       "    <tr>\n",
       "      <th>3</th>\n",
       "      <td>3</td>\n",
       "      <td>AMZN</td>\n",
       "      <td>2023-10-06</td>\n",
       "      <td>09:00AM</td>\n",
       "      <td>Is Trending Stock Amazon.com, Inc. (AMZN) a Bu...</td>\n",
       "    </tr>\n",
       "    <tr>\n",
       "      <th>4</th>\n",
       "      <td>4</td>\n",
       "      <td>AMZN</td>\n",
       "      <td>2023-10-06</td>\n",
       "      <td>08:15AM</td>\n",
       "      <td>Shift4 and Amazon Team Up for Checkout-Free Sh...</td>\n",
       "    </tr>\n",
       "    <tr>\n",
       "      <th>5</th>\n",
       "      <td>5</td>\n",
       "      <td>AMZN</td>\n",
       "      <td>2023-10-06</td>\n",
       "      <td>08:00AM</td>\n",
       "      <td>New This Holiday Season: Discounts on Shipping...</td>\n",
       "    </tr>\n",
       "    <tr>\n",
       "      <th>6</th>\n",
       "      <td>6</td>\n",
       "      <td>AMZN</td>\n",
       "      <td>2023-10-06</td>\n",
       "      <td>08:00AM</td>\n",
       "      <td>3 Top Cloud Stocks to Buy in October The cloud...</td>\n",
       "    </tr>\n",
       "    <tr>\n",
       "      <th>7</th>\n",
       "      <td>7</td>\n",
       "      <td>AMZN</td>\n",
       "      <td>2023-10-06</td>\n",
       "      <td>07:10AM</td>\n",
       "      <td>Etsy Still Manages to Outshine Amazon in This ...</td>\n",
       "    </tr>\n",
       "    <tr>\n",
       "      <th>8</th>\n",
       "      <td>8</td>\n",
       "      <td>AMZN</td>\n",
       "      <td>2023-10-06</td>\n",
       "      <td>06:05AM</td>\n",
       "      <td>Amazon Just Found a Smart Way to Add Billions ...</td>\n",
       "    </tr>\n",
       "    <tr>\n",
       "      <th>9</th>\n",
       "      <td>9</td>\n",
       "      <td>AMZN</td>\n",
       "      <td>2023-10-06</td>\n",
       "      <td>05:50AM</td>\n",
       "      <td>Microsoft Invested in OpenAI. Amazon and Googl...</td>\n",
       "    </tr>\n",
       "    <tr>\n",
       "      <th>10</th>\n",
       "      <td>10</td>\n",
       "      <td>AMZN</td>\n",
       "      <td>2023-10-06</td>\n",
       "      <td>05:30AM</td>\n",
       "      <td>These Stock-Split Stocks Could Become AI Giant...</td>\n",
       "    </tr>\n",
       "    <tr>\n",
       "      <th>11</th>\n",
       "      <td>11</td>\n",
       "      <td>AMZN</td>\n",
       "      <td>2023-10-06</td>\n",
       "      <td>05:02AM</td>\n",
       "      <td>3 Top U.S. Stocks to Watch in October U.S. sto...</td>\n",
       "    </tr>\n",
       "  </tbody>\n",
       "</table>\n",
       "</div>"
      ],
      "text/plain": [
       "    news_id ticker        date     time  \\\n",
       "0         0   AMZN  2023-10-06  10:20AM   \n",
       "1         1   AMZN  2023-10-06  09:53AM   \n",
       "2         2   AMZN  2023-10-06  09:15AM   \n",
       "3         3   AMZN  2023-10-06  09:00AM   \n",
       "4         4   AMZN  2023-10-06  08:15AM   \n",
       "5         5   AMZN  2023-10-06  08:00AM   \n",
       "6         6   AMZN  2023-10-06  08:00AM   \n",
       "7         7   AMZN  2023-10-06  07:10AM   \n",
       "8         8   AMZN  2023-10-06  06:05AM   \n",
       "9         9   AMZN  2023-10-06  05:50AM   \n",
       "10       10   AMZN  2023-10-06  05:30AM   \n",
       "11       11   AMZN  2023-10-06  05:02AM   \n",
       "\n",
       "                                                 text  \n",
       "0   Amazon leaked documents show an exciting chang...  \n",
       "1   2 Stock-Split Artificial Intelligence (AI) Sto...  \n",
       "2   Hollywood strikes have cost the US economy 45,...  \n",
       "3   Is Trending Stock Amazon.com, Inc. (AMZN) a Bu...  \n",
       "4   Shift4 and Amazon Team Up for Checkout-Free Sh...  \n",
       "5   New This Holiday Season: Discounts on Shipping...  \n",
       "6   3 Top Cloud Stocks to Buy in October The cloud...  \n",
       "7   Etsy Still Manages to Outshine Amazon in This ...  \n",
       "8   Amazon Just Found a Smart Way to Add Billions ...  \n",
       "9   Microsoft Invested in OpenAI. Amazon and Googl...  \n",
       "10  These Stock-Split Stocks Could Become AI Giant...  \n",
       "11  3 Top U.S. Stocks to Watch in October U.S. sto...  "
      ]
     },
     "execution_count": 4,
     "metadata": {},
     "output_type": "execute_result"
    }
   ],
   "source": [
    "news_df"
   ]
  }
 ],
 "metadata": {
  "kernelspec": {
   "display_name": "sefactory_env",
   "language": "python",
   "name": "python3"
  },
  "language_info": {
   "codemirror_mode": {
    "name": "ipython",
    "version": 3
   },
   "file_extension": ".py",
   "mimetype": "text/x-python",
   "name": "python",
   "nbconvert_exporter": "python",
   "pygments_lexer": "ipython3",
   "version": "3.10.9"
  }
 },
 "nbformat": 4,
 "nbformat_minor": 2
}
