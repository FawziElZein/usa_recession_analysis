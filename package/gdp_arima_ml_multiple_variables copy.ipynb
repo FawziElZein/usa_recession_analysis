{
 "cells": [
  {
   "cell_type": "code",
   "execution_count": 1,
   "metadata": {},
   "outputs": [
    {
     "name": "stderr",
     "output_type": "stream",
     "text": [
      "C:\\Users\\user\\AppData\\Local\\Temp\\ipykernel_12460\\2287388311.py:4: FutureWarning: column_space is deprecated and will be removed in a future version. Use df.to_string(col_space=...) instead.\n",
      "  pd.reset_option('display')\n",
      "c:\\Users\\user\\OneDrive\\Documents\\SE_Factory\\FSD\\Final_Project\\usa_recession_analysis\\database_handler.py:64: UserWarning: pandas only supports SQLAlchemy connectable (engine/connection) or database string URI or sqlite3 DBAPI2 connection. Other DBAPI2 objects are not tested. Please consider using SQLAlchemy.\n",
      "  return_dataframe = pd.read_sql_query(con= db_session, sql= file_executor)\n"
     ]
    }
   ],
   "source": [
    "import pandas as pd\n",
    "from database_handler import execute_query,create_connection,return_data_as_df\n",
    "from lookups import InputTypes\n",
    "pd.reset_option('display')\n",
    "\n",
    "db_session = create_connection()\n",
    "query = \"\"\" SELECT * FROM dw_reporting.agg_quarterly_gdp_vs_presidentials_speech_sentiments\n",
    " \"\"\"\n",
    "\n",
    "df = return_data_as_df(query,InputTypes.SQL,db_session)"
   ]
  },
  {
   "cell_type": "code",
   "execution_count": 27,
   "metadata": {},
   "outputs": [
    {
     "data": {
      "text/html": [
       "<div>\n",
       "<style scoped>\n",
       "    .dataframe tbody tr th:only-of-type {\n",
       "        vertical-align: middle;\n",
       "    }\n",
       "\n",
       "    .dataframe tbody tr th {\n",
       "        vertical-align: top;\n",
       "    }\n",
       "\n",
       "    .dataframe thead th {\n",
       "        text-align: right;\n",
       "    }\n",
       "</style>\n",
       "<table border=\"1\" class=\"dataframe\">\n",
       "  <thead>\n",
       "    <tr style=\"text-align: right;\">\n",
       "      <th></th>\n",
       "      <th>gdp</th>\n",
       "      <th>pce</th>\n",
       "      <th>gpdi</th>\n",
       "      <th>netexp</th>\n",
       "      <th>gcec</th>\n",
       "      <th>impgs</th>\n",
       "      <th>average_negative</th>\n",
       "      <th>average_neutral</th>\n",
       "      <th>average_positive</th>\n",
       "      <th>average_compound</th>\n",
       "      <th>gdp_diff</th>\n",
       "    </tr>\n",
       "    <tr>\n",
       "      <th>date</th>\n",
       "      <th></th>\n",
       "      <th></th>\n",
       "      <th></th>\n",
       "      <th></th>\n",
       "      <th></th>\n",
       "      <th></th>\n",
       "      <th></th>\n",
       "      <th></th>\n",
       "      <th></th>\n",
       "      <th></th>\n",
       "      <th></th>\n",
       "    </tr>\n",
       "  </thead>\n",
       "  <tbody>\n",
       "    <tr>\n",
       "      <th>2007-01-01</th>\n",
       "      <td>16611.690</td>\n",
       "      <td>28716.4</td>\n",
       "      <td>2664.295</td>\n",
       "      <td>-739.273</td>\n",
       "      <td>3299.115</td>\n",
       "      <td>2317.264</td>\n",
       "      <td>0.17</td>\n",
       "      <td>0.57</td>\n",
       "      <td>0.26</td>\n",
       "      <td>0.9996</td>\n",
       "      <td>NaN</td>\n",
       "    </tr>\n",
       "    <tr>\n",
       "      <th>2007-04-01</th>\n",
       "      <td>16713.314</td>\n",
       "      <td>29036.2</td>\n",
       "      <td>2699.217</td>\n",
       "      <td>-745.806</td>\n",
       "      <td>3329.139</td>\n",
       "      <td>2368.569</td>\n",
       "      <td>0.09</td>\n",
       "      <td>0.66</td>\n",
       "      <td>0.26</td>\n",
       "      <td>0.9998</td>\n",
       "      <td>101.624</td>\n",
       "    </tr>\n",
       "    <tr>\n",
       "      <th>2008-01-01</th>\n",
       "      <td>16843.003</td>\n",
       "      <td>30013.4</td>\n",
       "      <td>2563.701</td>\n",
       "      <td>-771.248</td>\n",
       "      <td>3378.654</td>\n",
       "      <td>2584.568</td>\n",
       "      <td>0.20</td>\n",
       "      <td>0.56</td>\n",
       "      <td>0.24</td>\n",
       "      <td>0.0002</td>\n",
       "      <td>129.689</td>\n",
       "    </tr>\n",
       "    <tr>\n",
       "      <th>2008-07-01</th>\n",
       "      <td>16854.295</td>\n",
       "      <td>30477.2</td>\n",
       "      <td>2498.242</td>\n",
       "      <td>-787.354</td>\n",
       "      <td>3435.100</td>\n",
       "      <td>2709.569</td>\n",
       "      <td>0.13</td>\n",
       "      <td>0.63</td>\n",
       "      <td>0.24</td>\n",
       "      <td>0.9998</td>\n",
       "      <td>11.292</td>\n",
       "    </tr>\n",
       "    <tr>\n",
       "      <th>2008-10-01</th>\n",
       "      <td>16485.350</td>\n",
       "      <td>29720.8</td>\n",
       "      <td>2307.915</td>\n",
       "      <td>-628.474</td>\n",
       "      <td>3458.839</td>\n",
       "      <td>2328.779</td>\n",
       "      <td>0.12</td>\n",
       "      <td>0.63</td>\n",
       "      <td>0.25</td>\n",
       "      <td>0.9969</td>\n",
       "      <td>-368.945</td>\n",
       "    </tr>\n",
       "    <tr>\n",
       "      <th>2009-01-01</th>\n",
       "      <td>16298.262</td>\n",
       "      <td>29444.9</td>\n",
       "      <td>2014.878</td>\n",
       "      <td>-420.992</td>\n",
       "      <td>3498.103</td>\n",
       "      <td>1932.761</td>\n",
       "      <td>0.13</td>\n",
       "      <td>0.59</td>\n",
       "      <td>0.28</td>\n",
       "      <td>0.9995</td>\n",
       "      <td>-187.088</td>\n",
       "    </tr>\n",
       "    <tr>\n",
       "      <th>2009-04-01</th>\n",
       "      <td>16269.145</td>\n",
       "      <td>29416.5</td>\n",
       "      <td>1863.650</td>\n",
       "      <td>-358.368</td>\n",
       "      <td>3549.027</td>\n",
       "      <td>1879.461</td>\n",
       "      <td>0.10</td>\n",
       "      <td>0.62</td>\n",
       "      <td>0.28</td>\n",
       "      <td>0.9998</td>\n",
       "      <td>-29.117</td>\n",
       "    </tr>\n",
       "    <tr>\n",
       "      <th>2009-07-01</th>\n",
       "      <td>16326.281</td>\n",
       "      <td>29818.2</td>\n",
       "      <td>1841.416</td>\n",
       "      <td>-423.998</td>\n",
       "      <td>3558.540</td>\n",
       "      <td>2018.722</td>\n",
       "      <td>0.14</td>\n",
       "      <td>0.65</td>\n",
       "      <td>0.21</td>\n",
       "      <td>0.9998</td>\n",
       "      <td>57.136</td>\n",
       "    </tr>\n",
       "    <tr>\n",
       "      <th>2009-10-01</th>\n",
       "      <td>16502.754</td>\n",
       "      <td>30015.0</td>\n",
       "      <td>1998.710</td>\n",
       "      <td>-473.254</td>\n",
       "      <td>3565.188</td>\n",
       "      <td>2176.763</td>\n",
       "      <td>0.20</td>\n",
       "      <td>0.56</td>\n",
       "      <td>0.25</td>\n",
       "      <td>0.9982</td>\n",
       "      <td>176.473</td>\n",
       "    </tr>\n",
       "    <tr>\n",
       "      <th>2010-01-01</th>\n",
       "      <td>16582.710</td>\n",
       "      <td>30305.5</td>\n",
       "      <td>2038.161</td>\n",
       "      <td>-509.192</td>\n",
       "      <td>3549.775</td>\n",
       "      <td>2269.069</td>\n",
       "      <td>0.11</td>\n",
       "      <td>0.64</td>\n",
       "      <td>0.25</td>\n",
       "      <td>0.9999</td>\n",
       "      <td>79.956</td>\n",
       "    </tr>\n",
       "  </tbody>\n",
       "</table>\n",
       "</div>"
      ],
      "text/plain": [
       "                  gdp      pce      gpdi   netexp      gcec     impgs  \\\n",
       "date                                                                    \n",
       "2007-01-01  16611.690  28716.4  2664.295 -739.273  3299.115  2317.264   \n",
       "2007-04-01  16713.314  29036.2  2699.217 -745.806  3329.139  2368.569   \n",
       "2008-01-01  16843.003  30013.4  2563.701 -771.248  3378.654  2584.568   \n",
       "2008-07-01  16854.295  30477.2  2498.242 -787.354  3435.100  2709.569   \n",
       "2008-10-01  16485.350  29720.8  2307.915 -628.474  3458.839  2328.779   \n",
       "2009-01-01  16298.262  29444.9  2014.878 -420.992  3498.103  1932.761   \n",
       "2009-04-01  16269.145  29416.5  1863.650 -358.368  3549.027  1879.461   \n",
       "2009-07-01  16326.281  29818.2  1841.416 -423.998  3558.540  2018.722   \n",
       "2009-10-01  16502.754  30015.0  1998.710 -473.254  3565.188  2176.763   \n",
       "2010-01-01  16582.710  30305.5  2038.161 -509.192  3549.775  2269.069   \n",
       "\n",
       "            average_negative  average_neutral  average_positive  \\\n",
       "date                                                              \n",
       "2007-01-01              0.17             0.57              0.26   \n",
       "2007-04-01              0.09             0.66              0.26   \n",
       "2008-01-01              0.20             0.56              0.24   \n",
       "2008-07-01              0.13             0.63              0.24   \n",
       "2008-10-01              0.12             0.63              0.25   \n",
       "2009-01-01              0.13             0.59              0.28   \n",
       "2009-04-01              0.10             0.62              0.28   \n",
       "2009-07-01              0.14             0.65              0.21   \n",
       "2009-10-01              0.20             0.56              0.25   \n",
       "2010-01-01              0.11             0.64              0.25   \n",
       "\n",
       "            average_compound  gdp_diff  \n",
       "date                                    \n",
       "2007-01-01            0.9996       NaN  \n",
       "2007-04-01            0.9998   101.624  \n",
       "2008-01-01            0.0002   129.689  \n",
       "2008-07-01            0.9998    11.292  \n",
       "2008-10-01            0.9969  -368.945  \n",
       "2009-01-01            0.9995  -187.088  \n",
       "2009-04-01            0.9998   -29.117  \n",
       "2009-07-01            0.9998    57.136  \n",
       "2009-10-01            0.9982   176.473  \n",
       "2010-01-01            0.9999    79.956  "
      ]
     },
     "execution_count": 27,
     "metadata": {},
     "output_type": "execute_result"
    }
   ],
   "source": [
    "df.head(10)"
   ]
  },
  {
   "cell_type": "code",
   "execution_count": 2,
   "metadata": {},
   "outputs": [
    {
     "name": "stdout",
     "output_type": "stream",
     "text": [
      "date                                datetime64[ns]\n",
      "gdp                                        float64\n",
      "pce                                        float64\n",
      "gpdi                                       float64\n",
      "netexp                                     float64\n",
      "gcec                                       float64\n",
      "impgs                                      float64\n",
      "number_of_speeches_per_president            object\n",
      "average_negative                           float64\n",
      "average_neutral                            float64\n",
      "average_positive                           float64\n",
      "average_compound                           float64\n",
      "dtype: object\n"
     ]
    }
   ],
   "source": [
    "import pandas as pd\n",
    "from statsmodels.tsa.arima.model import ARIMA\n",
    "import matplotlib.pyplot as plt\n",
    "\n",
    "\n",
    "\n",
    "# Set the 'date' column as the index\n",
    "df['date'] = pd.to_datetime(df['date'])\n",
    "print(df.dtypes)\n",
    "df.set_index('date', inplace=True)\n",
    "\n",
    "# Select relevant columns\n",
    "columns_to_use = ['gdp', 'pce', 'gpdi', 'netexp', 'gcec', 'impgs','average_negative','average_neutral','average_positive','average_compound']\n",
    "df = df[columns_to_use]\n",
    "\n"
   ]
  },
  {
   "cell_type": "markdown",
   "metadata": {},
   "source": [
    "### differencing"
   ]
  },
  {
   "cell_type": "code",
   "execution_count": 3,
   "metadata": {},
   "outputs": [
    {
     "name": "stdout",
     "output_type": "stream",
     "text": [
      "ADF Statistic: 0.419467946529106\n",
      "p-value: 0.9822085540872784\n"
     ]
    }
   ],
   "source": [
    "# You can use the adfuller function from statsmodels for the ADF test\n",
    "from statsmodels.tsa.stattools import adfuller\n",
    "\n",
    "result = adfuller(df['gdp'])\n",
    "print('ADF Statistic:', result[0])\n",
    "print('p-value:', result[1])"
   ]
  },
  {
   "cell_type": "code",
   "execution_count": 4,
   "metadata": {},
   "outputs": [],
   "source": [
    "df['gdp_diff'] = df['gdp'].diff()"
   ]
  },
  {
   "cell_type": "code",
   "execution_count": 5,
   "metadata": {},
   "outputs": [
    {
     "name": "stdout",
     "output_type": "stream",
     "text": [
      "ADF Statistic: -8.53865064520046\n",
      "p-value: 9.92029588941715e-14\n"
     ]
    }
   ],
   "source": [
    "result_diff = adfuller(df['gdp_diff'].dropna())\n",
    "print('ADF Statistic:', result_diff[0])\n",
    "print('p-value:', result_diff[1])"
   ]
  },
  {
   "cell_type": "code",
   "execution_count": 6,
   "metadata": {},
   "outputs": [
    {
     "data": {
      "image/png": "[encoded data removed]",
      "text/plain": [
       "<Figure size 1000x800 with 2 Axes>"
      ]
     },
     "metadata": {},
     "output_type": "display_data"
    }
   ],
   "source": [
    "# Example of ACF and PACF plots\n",
    "from statsmodels.graphics.tsaplots import plot_acf, plot_pacf\n",
    "import matplotlib.pyplot as plt\n",
    "\n",
    "fig, (ax1, ax2) = plt.subplots(2, 1, figsize=(10, 8))\n",
    "\n",
    "plot_acf(df['gdp_diff'].dropna(), lags=15, ax=ax1)\n",
    "plot_pacf(df['gdp_diff'].dropna(), lags=15, ax=ax2)\n",
    "\n",
    "plt.show()\n"
   ]
  },
  {
   "cell_type": "code",
   "execution_count": 7,
   "metadata": {},
   "outputs": [
    {
     "name": "stderr",
     "output_type": "stream",
     "text": [
      "c:\\Users\\user\\anaconda3\\envs\\sefactory_env\\lib\\site-packages\\statsmodels\\tsa\\base\\tsa_model.py:473: ValueWarning: A date index has been provided, but it has no associated frequency information and so will be ignored when e.g. forecasting.\n",
      "  self._init_dates(dates, freq)\n",
      "c:\\Users\\user\\anaconda3\\envs\\sefactory_env\\lib\\site-packages\\statsmodels\\tsa\\base\\tsa_model.py:473: ValueWarning: A date index has been provided, but it has no associated frequency information and so will be ignored when e.g. forecasting.\n",
      "  self._init_dates(dates, freq)\n",
      "c:\\Users\\user\\anaconda3\\envs\\sefactory_env\\lib\\site-packages\\statsmodels\\tsa\\base\\tsa_model.py:473: ValueWarning: A date index has been provided, but it has no associated frequency information and so will be ignored when e.g. forecasting.\n",
      "  self._init_dates(dates, freq)\n",
      "c:\\Users\\user\\anaconda3\\envs\\sefactory_env\\lib\\site-packages\\statsmodels\\tsa\\statespace\\sarimax.py:966: UserWarning: Non-stationary starting autoregressive parameters found. Using zeros as starting parameters.\n",
      "  warn('Non-stationary starting autoregressive parameters'\n",
      "c:\\Users\\user\\anaconda3\\envs\\sefactory_env\\lib\\site-packages\\statsmodels\\tsa\\statespace\\sarimax.py:978: UserWarning: Non-invertible starting MA parameters found. Using zeros as starting parameters.\n",
      "  warn('Non-invertible starting MA parameters found.'\n",
      "c:\\Users\\user\\anaconda3\\envs\\sefactory_env\\lib\\site-packages\\statsmodels\\base\\model.py:607: ConvergenceWarning: Maximum Likelihood optimization failed to converge. Check mle_retvals\n",
      "  warnings.warn(\"Maximum Likelihood optimization failed to \"\n"
     ]
    }
   ],
   "source": [
    "# # Check for missing values and fill or drop them if necessary\n",
    "# df = df.dropna()\n",
    "\n",
    "# Fit ARIMA model\n",
    "#314\n",
    "\n",
    "model = ARIMA(df['gdp'], order=(4, 1, 2))  # You may need to experiment with order values\n",
    "result = model.fit()"
   ]
  },
  {
   "cell_type": "code",
   "execution_count": 8,
   "metadata": {},
   "outputs": [
    {
     "name": "stderr",
     "output_type": "stream",
     "text": [
      "c:\\Users\\user\\anaconda3\\envs\\sefactory_env\\lib\\site-packages\\statsmodels\\tsa\\base\\tsa_model.py:836: ValueWarning: No supported index is available. Prediction results will be given with an integer index beginning at `start`.\n",
      "  return get_prediction_index(\n",
      "c:\\Users\\user\\anaconda3\\envs\\sefactory_env\\lib\\site-packages\\statsmodels\\tsa\\base\\tsa_model.py:836: FutureWarning: No supported index is available. In the next version, calling this method in a model without a supported index will result in an exception.\n",
      "  return get_prediction_index(\n"
     ]
    }
   ],
   "source": [
    "# Make predictions for future periods\n",
    "future_periods = 40 # Adjust as needed\n",
    "forecast = result.get_forecast(steps=future_periods)\n"
   ]
  },
  {
   "cell_type": "code",
   "execution_count": 9,
   "metadata": {},
   "outputs": [],
   "source": [
    "# Get the predicted values and confidence intervals\n",
    "predicted_values = forecast.predicted_mean\n",
    "confidence_intervals = forecast.conf_int()"
   ]
  },
  {
   "cell_type": "code",
   "execution_count": 10,
   "metadata": {},
   "outputs": [
    {
     "data": {
      "text/plain": [
       "51    22205.932334\n",
       "52    22308.021636\n",
       "53    22416.702207\n",
       "54    22524.427469\n",
       "55    22631.901770\n",
       "56    22739.392796\n",
       "57    22846.852529\n",
       "58    22954.268571\n",
       "59    23061.648687\n",
       "60    23168.988163\n",
       "61    23276.291697\n",
       "62    23383.554490\n",
       "63    23490.781380\n",
       "64    23597.967561\n",
       "65    23705.117866\n",
       "66    23812.227489\n",
       "67    23919.301263\n",
       "68    24026.334383\n",
       "69    24133.331681\n",
       "70    24240.288352\n",
       "71    24347.209229\n",
       "72    24454.089507\n",
       "73    24560.934017\n",
       "74    24667.737955\n",
       "75    24774.506153\n",
       "76    24881.233806\n",
       "77    24987.925746\n",
       "78    25094.577169\n",
       "79    25201.192906\n",
       "80    25307.768152\n",
       "81    25414.307741\n",
       "82    25520.806866\n",
       "83    25627.270360\n",
       "84    25733.693417\n",
       "85    25840.080871\n",
       "86    25946.427916\n",
       "87    26052.739384\n",
       "88    26159.010471\n",
       "89    26265.246007\n",
       "90    26371.441189\n",
       "Name: predicted_mean, dtype: float64"
      ]
     },
     "execution_count": 10,
     "metadata": {},
     "output_type": "execute_result"
    }
   ],
   "source": [
    "predicted_values"
   ]
  },
  {
   "cell_type": "code",
   "execution_count": 11,
   "metadata": {},
   "outputs": [],
   "source": [
    "confidence_intervals_df = pd.DataFrame(confidence_intervals)"
   ]
  },
  {
   "cell_type": "code",
   "execution_count": 12,
   "metadata": {},
   "outputs": [],
   "source": [
    "confidence_intervals_df['increment'] = range(1, len(confidence_intervals) + 1)"
   ]
  },
  {
   "cell_type": "code",
   "execution_count": 13,
   "metadata": {},
   "outputs": [
    {
     "data": {
      "text/html": [
       "<div>\n",
       "<style scoped>\n",
       "    .dataframe tbody tr th:only-of-type {\n",
       "        vertical-align: middle;\n",
       "    }\n",
       "\n",
       "    .dataframe tbody tr th {\n",
       "        vertical-align: top;\n",
       "    }\n",
       "\n",
       "    .dataframe thead th {\n",
       "        text-align: right;\n",
       "    }\n",
       "</style>\n",
       "<table border=\"1\" class=\"dataframe\">\n",
       "  <thead>\n",
       "    <tr style=\"text-align: right;\">\n",
       "      <th></th>\n",
       "      <th>lower gdp</th>\n",
       "      <th>upper gdp</th>\n",
       "      <th>increment</th>\n",
       "    </tr>\n",
       "  </thead>\n",
       "  <tbody>\n",
       "    <tr>\n",
       "      <th>51</th>\n",
       "      <td>21495.266335</td>\n",
       "      <td>22916.598334</td>\n",
       "      <td>1</td>\n",
       "    </tr>\n",
       "    <tr>\n",
       "      <th>52</th>\n",
       "      <td>21335.744996</td>\n",
       "      <td>23280.298276</td>\n",
       "      <td>2</td>\n",
       "    </tr>\n",
       "    <tr>\n",
       "      <th>53</th>\n",
       "      <td>21248.753618</td>\n",
       "      <td>23584.650797</td>\n",
       "      <td>3</td>\n",
       "    </tr>\n",
       "    <tr>\n",
       "      <th>54</th>\n",
       "      <td>21182.297276</td>\n",
       "      <td>23866.557662</td>\n",
       "      <td>4</td>\n",
       "    </tr>\n",
       "    <tr>\n",
       "      <th>55</th>\n",
       "      <td>21131.232588</td>\n",
       "      <td>24132.570952</td>\n",
       "      <td>5</td>\n",
       "    </tr>\n",
       "  </tbody>\n",
       "</table>\n",
       "</div>"
      ],
      "text/plain": [
       "       lower gdp     upper gdp  increment\n",
       "51  21495.266335  22916.598334          1\n",
       "52  21335.744996  23280.298276          2\n",
       "53  21248.753618  23584.650797          3\n",
       "54  21182.297276  23866.557662          4\n",
       "55  21131.232588  24132.570952          5"
      ]
     },
     "execution_count": 13,
     "metadata": {},
     "output_type": "execute_result"
    }
   ],
   "source": [
    "confidence_intervals_df.head()"
   ]
  },
  {
   "cell_type": "code",
   "execution_count": 14,
   "metadata": {},
   "outputs": [],
   "source": [
    "initial_date = pd.to_datetime(\"2023-01-01\")"
   ]
  },
  {
   "cell_type": "code",
   "execution_count": 15,
   "metadata": {},
   "outputs": [],
   "source": [
    "confidence_intervals_df['date'] = initial_date + pd.DateOffset(months=3) * confidence_intervals_df['increment']\n"
   ]
  },
  {
   "cell_type": "code",
   "execution_count": 16,
   "metadata": {},
   "outputs": [
    {
     "data": {
      "text/html": [
       "<div>\n",
       "<style scoped>\n",
       "    .dataframe tbody tr th:only-of-type {\n",
       "        vertical-align: middle;\n",
       "    }\n",
       "\n",
       "    .dataframe tbody tr th {\n",
       "        vertical-align: top;\n",
       "    }\n",
       "\n",
       "    .dataframe thead th {\n",
       "        text-align: right;\n",
       "    }\n",
       "</style>\n",
       "<table border=\"1\" class=\"dataframe\">\n",
       "  <thead>\n",
       "    <tr style=\"text-align: right;\">\n",
       "      <th></th>\n",
       "      <th>lower gdp</th>\n",
       "      <th>upper gdp</th>\n",
       "      <th>increment</th>\n",
       "      <th>date</th>\n",
       "    </tr>\n",
       "  </thead>\n",
       "  <tbody>\n",
       "    <tr>\n",
       "      <th>51</th>\n",
       "      <td>21495.266335</td>\n",
       "      <td>22916.598334</td>\n",
       "      <td>1</td>\n",
       "      <td>2023-04-01</td>\n",
       "    </tr>\n",
       "    <tr>\n",
       "      <th>52</th>\n",
       "      <td>21335.744996</td>\n",
       "      <td>23280.298276</td>\n",
       "      <td>2</td>\n",
       "      <td>2023-07-01</td>\n",
       "    </tr>\n",
       "    <tr>\n",
       "      <th>53</th>\n",
       "      <td>21248.753618</td>\n",
       "      <td>23584.650797</td>\n",
       "      <td>3</td>\n",
       "      <td>2023-10-01</td>\n",
       "    </tr>\n",
       "    <tr>\n",
       "      <th>54</th>\n",
       "      <td>21182.297276</td>\n",
       "      <td>23866.557662</td>\n",
       "      <td>4</td>\n",
       "      <td>2024-01-01</td>\n",
       "    </tr>\n",
       "    <tr>\n",
       "      <th>55</th>\n",
       "      <td>21131.232588</td>\n",
       "      <td>24132.570952</td>\n",
       "      <td>5</td>\n",
       "      <td>2024-04-01</td>\n",
       "    </tr>\n",
       "  </tbody>\n",
       "</table>\n",
       "</div>"
      ],
      "text/plain": [
       "       lower gdp     upper gdp  increment       date\n",
       "51  21495.266335  22916.598334          1 2023-04-01\n",
       "52  21335.744996  23280.298276          2 2023-07-01\n",
       "53  21248.753618  23584.650797          3 2023-10-01\n",
       "54  21182.297276  23866.557662          4 2024-01-01\n",
       "55  21131.232588  24132.570952          5 2024-04-01"
      ]
     },
     "execution_count": 16,
     "metadata": {},
     "output_type": "execute_result"
    }
   ],
   "source": [
    "confidence_intervals_df.head()"
   ]
  },
  {
   "cell_type": "code",
   "execution_count": 17,
   "metadata": {},
   "outputs": [
    {
     "data": {
      "text/html": [
       "<div>\n",
       "<style scoped>\n",
       "    .dataframe tbody tr th:only-of-type {\n",
       "        vertical-align: middle;\n",
       "    }\n",
       "\n",
       "    .dataframe tbody tr th {\n",
       "        vertical-align: top;\n",
       "    }\n",
       "\n",
       "    .dataframe thead th {\n",
       "        text-align: right;\n",
       "    }\n",
       "</style>\n",
       "<table border=\"1\" class=\"dataframe\">\n",
       "  <thead>\n",
       "    <tr style=\"text-align: right;\">\n",
       "      <th></th>\n",
       "      <th>predicted_mean</th>\n",
       "    </tr>\n",
       "  </thead>\n",
       "  <tbody>\n",
       "    <tr>\n",
       "      <th>51</th>\n",
       "      <td>22205.932334</td>\n",
       "    </tr>\n",
       "    <tr>\n",
       "      <th>52</th>\n",
       "      <td>22308.021636</td>\n",
       "    </tr>\n",
       "    <tr>\n",
       "      <th>53</th>\n",
       "      <td>22416.702207</td>\n",
       "    </tr>\n",
       "    <tr>\n",
       "      <th>54</th>\n",
       "      <td>22524.427469</td>\n",
       "    </tr>\n",
       "    <tr>\n",
       "      <th>55</th>\n",
       "      <td>22631.901770</td>\n",
       "    </tr>\n",
       "  </tbody>\n",
       "</table>\n",
       "</div>"
      ],
      "text/plain": [
       "    predicted_mean\n",
       "51    22205.932334\n",
       "52    22308.021636\n",
       "53    22416.702207\n",
       "54    22524.427469\n",
       "55    22631.901770"
      ]
     },
     "execution_count": 17,
     "metadata": {},
     "output_type": "execute_result"
    }
   ],
   "source": [
    "predicted_values_df = pd.DataFrame(predicted_values)\n",
    "predicted_values_df.head()"
   ]
  },
  {
   "cell_type": "code",
   "execution_count": 18,
   "metadata": {},
   "outputs": [],
   "source": [
    "predicted_values_df['increment'] = range(1, len(predicted_values_df) + 1)"
   ]
  },
  {
   "cell_type": "code",
   "execution_count": 19,
   "metadata": {},
   "outputs": [],
   "source": [
    "predicted_values_df['date'] = initial_date + pd.DateOffset(months=3) * predicted_values_df['increment']\n"
   ]
  },
  {
   "cell_type": "code",
   "execution_count": 20,
   "metadata": {},
   "outputs": [
    {
     "data": {
      "text/html": [
       "<div>\n",
       "<style scoped>\n",
       "    .dataframe tbody tr th:only-of-type {\n",
       "        vertical-align: middle;\n",
       "    }\n",
       "\n",
       "    .dataframe tbody tr th {\n",
       "        vertical-align: top;\n",
       "    }\n",
       "\n",
       "    .dataframe thead th {\n",
       "        text-align: right;\n",
       "    }\n",
       "</style>\n",
       "<table border=\"1\" class=\"dataframe\">\n",
       "  <thead>\n",
       "    <tr style=\"text-align: right;\">\n",
       "      <th></th>\n",
       "      <th>predicted_mean</th>\n",
       "      <th>increment</th>\n",
       "      <th>date</th>\n",
       "    </tr>\n",
       "  </thead>\n",
       "  <tbody>\n",
       "    <tr>\n",
       "      <th>51</th>\n",
       "      <td>22205.932334</td>\n",
       "      <td>1</td>\n",
       "      <td>2023-04-01</td>\n",
       "    </tr>\n",
       "    <tr>\n",
       "      <th>52</th>\n",
       "      <td>22308.021636</td>\n",
       "      <td>2</td>\n",
       "      <td>2023-07-01</td>\n",
       "    </tr>\n",
       "    <tr>\n",
       "      <th>53</th>\n",
       "      <td>22416.702207</td>\n",
       "      <td>3</td>\n",
       "      <td>2023-10-01</td>\n",
       "    </tr>\n",
       "    <tr>\n",
       "      <th>54</th>\n",
       "      <td>22524.427469</td>\n",
       "      <td>4</td>\n",
       "      <td>2024-01-01</td>\n",
       "    </tr>\n",
       "    <tr>\n",
       "      <th>55</th>\n",
       "      <td>22631.901770</td>\n",
       "      <td>5</td>\n",
       "      <td>2024-04-01</td>\n",
       "    </tr>\n",
       "  </tbody>\n",
       "</table>\n",
       "</div>"
      ],
      "text/plain": [
       "    predicted_mean  increment       date\n",
       "51    22205.932334          1 2023-04-01\n",
       "52    22308.021636          2 2023-07-01\n",
       "53    22416.702207          3 2023-10-01\n",
       "54    22524.427469          4 2024-01-01\n",
       "55    22631.901770          5 2024-04-01"
      ]
     },
     "execution_count": 20,
     "metadata": {},
     "output_type": "execute_result"
    }
   ],
   "source": [
    "predicted_values_df.head()"
   ]
  },
  {
   "cell_type": "code",
   "execution_count": 21,
   "metadata": {},
   "outputs": [],
   "source": [
    "future_dates = pd.date_range(start=pd.to_datetime(\"2023-01-01\"), periods=30 + 1, freq='M')[1:]\n",
    "future_dates = pd.to_datetime(\"2023-01-01\") + pd.DateOffset(months=3) * predicted_values_df['increment']"
   ]
  },
  {
   "cell_type": "code",
   "execution_count": 22,
   "metadata": {},
   "outputs": [
    {
     "data": {
      "text/plain": [
       "51   2023-04-01\n",
       "52   2023-07-01\n",
       "53   2023-10-01\n",
       "54   2024-01-01\n",
       "55   2024-04-01\n",
       "56   2024-07-01\n",
       "57   2024-10-01\n",
       "58   2025-01-01\n",
       "59   2025-04-01\n",
       "60   2025-07-01\n",
       "61   2025-10-01\n",
       "62   2026-01-01\n",
       "63   2026-04-01\n",
       "64   2026-07-01\n",
       "65   2026-10-01\n",
       "66   2027-01-01\n",
       "67   2027-04-01\n",
       "68   2027-07-01\n",
       "69   2027-10-01\n",
       "70   2028-01-01\n",
       "71   2028-04-01\n",
       "72   2028-07-01\n",
       "73   2028-10-01\n",
       "74   2029-01-01\n",
       "75   2029-04-01\n",
       "76   2029-07-01\n",
       "77   2029-10-01\n",
       "78   2030-01-01\n",
       "79   2030-04-01\n",
       "80   2030-07-01\n",
       "81   2030-10-01\n",
       "82   2031-01-01\n",
       "83   2031-04-01\n",
       "84   2031-07-01\n",
       "85   2031-10-01\n",
       "86   2032-01-01\n",
       "87   2032-04-01\n",
       "88   2032-07-01\n",
       "89   2032-10-01\n",
       "90   2033-01-01\n",
       "Name: increment, dtype: datetime64[ns]"
      ]
     },
     "execution_count": 22,
     "metadata": {},
     "output_type": "execute_result"
    }
   ],
   "source": [
    "future_dates"
   ]
  },
  {
   "cell_type": "code",
   "execution_count": 23,
   "metadata": {},
   "outputs": [
    {
     "data": {
      "image/png": "[encoded data removed]",
      "text/plain": [
       "<Figure size 640x480 with 1 Axes>"
      ]
     },
     "metadata": {},
     "output_type": "display_data"
    }
   ],
   "source": [
    "# Plot the actual values\n",
    "plt.plot(df['gdp'], label='Actual GDP')\n",
    "\n",
    "# Plot the predicted values\n",
    "plt.plot(future_dates, predicted_values, label='Predicted GDP', color='red')\n",
    "\n",
    "# Plot confidence intervals if needed\n",
    "plt.fill_between(future_dates, confidence_intervals.iloc[:, 0], confidence_intervals.iloc[:, 1], color='red', alpha=0.2, label='Confidence Intervals')\n",
    "\n",
    "# Display the plot\n",
    "plt.legend()\n",
    "plt.title('ARIMA Model: Actual vs. Predicted GDP')\n",
    "plt.show()"
   ]
  }
 ],
 "metadata": {
  "kernelspec": {
   "display_name": "sefactory_env",
   "language": "python",
   "name": "python3"
  },
  "language_info": {
   "codemirror_mode": {
    "name": "ipython",
    "version": 3
   },
   "file_extension": ".py",
   "mimetype": "text/x-python",
   "name": "python",
   "nbconvert_exporter": "python",
   "pygments_lexer": "ipython3",
   "version": "3.10.9"
  }
 },
 "nbformat": 4,
 "nbformat_minor": 2
}
