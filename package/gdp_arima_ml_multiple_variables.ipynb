{
 "cells": [
  {
   "cell_type": "code",
   "execution_count": 34,
   "metadata": {},
   "outputs": [
    {
     "name": "stderr",
     "output_type": "stream",
     "text": [
      "c:\\Users\\user\\OneDrive\\Documents\\SE_Factory\\FSD\\Final_Project\\usa_recession_analysis\\database_handler.py:64: UserWarning: pandas only supports SQLAlchemy connectable (engine/connection) or database string URI or sqlite3 DBAPI2 connection. Other DBAPI2 objects are not tested. Please consider using SQLAlchemy.\n",
      "  return_dataframe = pd.read_sql_query(con= db_session, sql= file_executor)\n"
     ]
    },
    {
     "data": {
      "text/html": [
       "<div>\n",
       "<style scoped>\n",
       "    .dataframe tbody tr th:only-of-type {\n",
       "        vertical-align: middle;\n",
       "    }\n",
       "\n",
       "    .dataframe tbody tr th {\n",
       "        vertical-align: top;\n",
       "    }\n",
       "\n",
       "    .dataframe thead th {\n",
       "        text-align: right;\n",
       "    }\n",
       "</style>\n",
       "<table border=\"1\" class=\"dataframe\">\n",
       "  <thead>\n",
       "    <tr style=\"text-align: right;\">\n",
       "      <th></th>\n",
       "      <th>date</th>\n",
       "      <th>gdp</th>\n",
       "      <th>pce</th>\n",
       "      <th>gpdi</th>\n",
       "      <th>netexp</th>\n",
       "      <th>gcec</th>\n",
       "      <th>impgs</th>\n",
       "    </tr>\n",
       "  </thead>\n",
       "  <tbody>\n",
       "    <tr>\n",
       "      <th>0</th>\n",
       "      <td>2007-01-01</td>\n",
       "      <td>16611.690</td>\n",
       "      <td>28716.4</td>\n",
       "      <td>2664.295</td>\n",
       "      <td>-739.273</td>\n",
       "      <td>3299.115</td>\n",
       "      <td>2317.264</td>\n",
       "    </tr>\n",
       "    <tr>\n",
       "      <th>1</th>\n",
       "      <td>2007-04-01</td>\n",
       "      <td>16713.314</td>\n",
       "      <td>29036.2</td>\n",
       "      <td>2699.217</td>\n",
       "      <td>-745.806</td>\n",
       "      <td>3329.139</td>\n",
       "      <td>2368.569</td>\n",
       "    </tr>\n",
       "    <tr>\n",
       "      <th>2</th>\n",
       "      <td>2007-07-01</td>\n",
       "      <td>16809.587</td>\n",
       "      <td>29395.1</td>\n",
       "      <td>2685.969</td>\n",
       "      <td>-728.954</td>\n",
       "      <td>3344.222</td>\n",
       "      <td>2414.664</td>\n",
       "    </tr>\n",
       "    <tr>\n",
       "      <th>3</th>\n",
       "      <td>2007-10-01</td>\n",
       "      <td>16915.191</td>\n",
       "      <td>29811.4</td>\n",
       "      <td>2642.560</td>\n",
       "      <td>-729.699</td>\n",
       "      <td>3370.950</td>\n",
       "      <td>2480.413</td>\n",
       "    </tr>\n",
       "    <tr>\n",
       "      <th>4</th>\n",
       "      <td>2008-01-01</td>\n",
       "      <td>16843.003</td>\n",
       "      <td>30013.4</td>\n",
       "      <td>2563.701</td>\n",
       "      <td>-771.248</td>\n",
       "      <td>3378.654</td>\n",
       "      <td>2584.568</td>\n",
       "    </tr>\n",
       "    <tr>\n",
       "      <th>...</th>\n",
       "      <td>...</td>\n",
       "      <td>...</td>\n",
       "      <td>...</td>\n",
       "      <td>...</td>\n",
       "      <td>...</td>\n",
       "      <td>...</td>\n",
       "      <td>...</td>\n",
       "    </tr>\n",
       "    <tr>\n",
       "      <th>61</th>\n",
       "      <td>2022-04-01</td>\n",
       "      <td>21708.160</td>\n",
       "      <td>52245.3</td>\n",
       "      <td>4739.049</td>\n",
       "      <td>-1025.567</td>\n",
       "      <td>3641.161</td>\n",
       "      <td>4069.839</td>\n",
       "    </tr>\n",
       "    <tr>\n",
       "      <th>62</th>\n",
       "      <td>2022-07-01</td>\n",
       "      <td>21851.134</td>\n",
       "      <td>53052.6</td>\n",
       "      <td>4724.621</td>\n",
       "      <td>-892.026</td>\n",
       "      <td>3666.982</td>\n",
       "      <td>3976.524</td>\n",
       "    </tr>\n",
       "    <tr>\n",
       "      <th>63</th>\n",
       "      <td>2022-10-01</td>\n",
       "      <td>21989.981</td>\n",
       "      <td>53751.2</td>\n",
       "      <td>4796.162</td>\n",
       "      <td>-877.204</td>\n",
       "      <td>3714.800</td>\n",
       "      <td>3891.004</td>\n",
       "    </tr>\n",
       "    <tr>\n",
       "      <th>64</th>\n",
       "      <td>2023-01-01</td>\n",
       "      <td>22112.329</td>\n",
       "      <td>54808.7</td>\n",
       "      <td>4725.828</td>\n",
       "      <td>-825.687</td>\n",
       "      <td>3758.768</td>\n",
       "      <td>3890.491</td>\n",
       "    </tr>\n",
       "    <tr>\n",
       "      <th>65</th>\n",
       "      <td>2023-04-01</td>\n",
       "      <td>22225.350</td>\n",
       "      <td>55257.0</td>\n",
       "      <td>4780.290</td>\n",
       "      <td>-806.093</td>\n",
       "      <td>3789.786</td>\n",
       "      <td>3767.851</td>\n",
       "    </tr>\n",
       "  </tbody>\n",
       "</table>\n",
       "<p>66 rows × 7 columns</p>\n",
       "</div>"
      ],
      "text/plain": [
       "          date        gdp      pce      gpdi    netexp      gcec     impgs\n",
       "0   2007-01-01  16611.690  28716.4  2664.295  -739.273  3299.115  2317.264\n",
       "1   2007-04-01  16713.314  29036.2  2699.217  -745.806  3329.139  2368.569\n",
       "2   2007-07-01  16809.587  29395.1  2685.969  -728.954  3344.222  2414.664\n",
       "3   2007-10-01  16915.191  29811.4  2642.560  -729.699  3370.950  2480.413\n",
       "4   2008-01-01  16843.003  30013.4  2563.701  -771.248  3378.654  2584.568\n",
       "..         ...        ...      ...       ...       ...       ...       ...\n",
       "61  2022-04-01  21708.160  52245.3  4739.049 -1025.567  3641.161  4069.839\n",
       "62  2022-07-01  21851.134  53052.6  4724.621  -892.026  3666.982  3976.524\n",
       "63  2022-10-01  21989.981  53751.2  4796.162  -877.204  3714.800  3891.004\n",
       "64  2023-01-01  22112.329  54808.7  4725.828  -825.687  3758.768  3890.491\n",
       "65  2023-04-01  22225.350  55257.0  4780.290  -806.093  3789.786  3767.851\n",
       "\n",
       "[66 rows x 7 columns]"
      ]
     },
     "execution_count": 34,
     "metadata": {},
     "output_type": "execute_result"
    }
   ],
   "source": [
    "import pandas as pd\n",
    "from database_handler import execute_query,create_connection,return_data_as_df\n",
    "from lookups import InputTypes\n",
    "\n",
    "db_session = create_connection()\n",
    "query = \"\"\" SELECT * FROM dw_reporting.dim_gdp_all_measures\n",
    " \"\"\"\n",
    "\n",
    "df = return_data_as_df(query,InputTypes.SQL,db_session)\n",
    "df"
   ]
  },
  {
   "cell_type": "code",
   "execution_count": 35,
   "metadata": {},
   "outputs": [
    {
     "data": {
      "text/plain": [
       "0     2007-01-01\n",
       "1     2007-04-01\n",
       "2     2007-07-01\n",
       "3     2007-10-01\n",
       "4     2008-01-01\n",
       "         ...    \n",
       "61    2022-04-01\n",
       "62    2022-07-01\n",
       "63    2022-10-01\n",
       "64    2023-01-01\n",
       "65    2023-04-01\n",
       "Name: date, Length: 66, dtype: object"
      ]
     },
     "execution_count": 35,
     "metadata": {},
     "output_type": "execute_result"
    }
   ],
   "source": [
    "df['date']"
   ]
  },
  {
   "cell_type": "code",
   "execution_count": 36,
   "metadata": {},
   "outputs": [],
   "source": [
    "import pandas as pd\n",
    "from statsmodels.tsa.arima.model import ARIMA\n",
    "import matplotlib.pyplot as plt\n",
    "\n",
    "\n",
    "\n",
    "# Set the 'date' column as the index\n",
    "df['date'] = pd.to_datetime(df['date'])\n",
    "df.set_index('date', inplace=True)\n",
    "\n",
    "# Select relevant columns\n",
    "columns_to_use = ['gdp', 'pce', 'gpdi', 'netexp', 'gcec', 'impgs']\n",
    "df = df[columns_to_use]\n",
    "\n"
   ]
  },
  {
   "cell_type": "markdown",
   "metadata": {},
   "source": [
    "### differencing"
   ]
  },
  {
   "cell_type": "code",
   "execution_count": 37,
   "metadata": {},
   "outputs": [
    {
     "name": "stdout",
     "output_type": "stream",
     "text": [
      "ADF Statistic: 0.6853868216176305\n",
      "p-value: 0.9895416810729587\n"
     ]
    }
   ],
   "source": [
    "# You can use the adfuller function from statsmodels for the ADF test\n",
    "from statsmodels.tsa.stattools import adfuller\n",
    "\n",
    "result = adfuller(df['gdp'])\n",
    "print('ADF Statistic:', result[0])\n",
    "print('p-value:', result[1])"
   ]
  },
  {
   "cell_type": "code",
   "execution_count": 38,
   "metadata": {},
   "outputs": [],
   "source": [
    "df['gdp_diff'] = df['gdp'].diff()"
   ]
  },
  {
   "cell_type": "code",
   "execution_count": 39,
   "metadata": {},
   "outputs": [
    {
     "name": "stdout",
     "output_type": "stream",
     "text": [
      "ADF Statistic: -6.869334573493591\n",
      "p-value: 1.5299063683304448e-09\n"
     ]
    }
   ],
   "source": [
    "result_diff = adfuller(df['gdp_diff'].dropna())\n",
    "print('ADF Statistic:', result_diff[0])\n",
    "print('p-value:', result_diff[1])"
   ]
  },
  {
   "cell_type": "code",
   "execution_count": 40,
   "metadata": {},
   "outputs": [
    {
     "data": {
      "image/png": "[encoded data removed]",
      "text/plain": [
       "<Figure size 1000x800 with 2 Axes>"
      ]
     },
     "metadata": {},
     "output_type": "display_data"
    }
   ],
   "source": [
    "# Example of ACF and PACF plots\n",
    "from statsmodels.graphics.tsaplots import plot_acf, plot_pacf\n",
    "import matplotlib.pyplot as plt\n",
    "\n",
    "fig, (ax1, ax2) = plt.subplots(2, 1, figsize=(10, 8))\n",
    "\n",
    "plot_acf(df['gdp_diff'].dropna(), lags=3, ax=ax1)\n",
    "plot_pacf(df['gdp_diff'].dropna(), lags=3, ax=ax2)\n",
    "\n",
    "plt.show()\n"
   ]
  },
  {
   "cell_type": "code",
   "execution_count": 74,
   "metadata": {},
   "outputs": [
    {
     "name": "stderr",
     "output_type": "stream",
     "text": [
      "c:\\Users\\user\\anaconda3\\envs\\sefactory_env\\lib\\site-packages\\statsmodels\\tsa\\base\\tsa_model.py:473: ValueWarning: No frequency information was provided, so inferred frequency QS-OCT will be used.\n",
      "  self._init_dates(dates, freq)\n",
      "c:\\Users\\user\\anaconda3\\envs\\sefactory_env\\lib\\site-packages\\statsmodels\\tsa\\base\\tsa_model.py:473: ValueWarning: No frequency information was provided, so inferred frequency QS-OCT will be used.\n",
      "  self._init_dates(dates, freq)\n",
      "c:\\Users\\user\\anaconda3\\envs\\sefactory_env\\lib\\site-packages\\statsmodels\\tsa\\base\\tsa_model.py:473: ValueWarning: No frequency information was provided, so inferred frequency QS-OCT will be used.\n",
      "  self._init_dates(dates, freq)\n",
      "c:\\Users\\user\\anaconda3\\envs\\sefactory_env\\lib\\site-packages\\statsmodels\\tsa\\statespace\\sarimax.py:966: UserWarning: Non-stationary starting autoregressive parameters found. Using zeros as starting parameters.\n",
      "  warn('Non-stationary starting autoregressive parameters'\n",
      "c:\\Users\\user\\anaconda3\\envs\\sefactory_env\\lib\\site-packages\\statsmodels\\tsa\\statespace\\sarimax.py:978: UserWarning: Non-invertible starting MA parameters found. Using zeros as starting parameters.\n",
      "  warn('Non-invertible starting MA parameters found.'\n",
      "c:\\Users\\user\\anaconda3\\envs\\sefactory_env\\lib\\site-packages\\statsmodels\\base\\model.py:607: ConvergenceWarning: Maximum Likelihood optimization failed to converge. Check mle_retvals\n",
      "  warnings.warn(\"Maximum Likelihood optimization failed to \"\n"
     ]
    }
   ],
   "source": [
    "# # Check for missing values and fill or drop them if necessary\n",
    "# df = df.dropna()\n",
    "\n",
    "# Fit ARIMA model\n",
    "#314\n",
    "model = ARIMA(df['gdp'], order=(3, 1, 4))  # You may need to experiment with order values\n",
    "result = model.fit()"
   ]
  },
  {
   "cell_type": "code",
   "execution_count": 75,
   "metadata": {},
   "outputs": [],
   "source": [
    "# Make predictions for future periods\n",
    "future_periods = 80  # Adjust as needed\n",
    "forecast = result.get_forecast(steps=future_periods)\n"
   ]
  },
  {
   "cell_type": "code",
   "execution_count": 76,
   "metadata": {},
   "outputs": [],
   "source": [
    "# Get the predicted values and confidence intervals\n",
    "predicted_values = forecast.predicted_mean\n",
    "confidence_intervals = forecast.conf_int()"
   ]
  },
  {
   "cell_type": "code",
   "execution_count": 105,
   "metadata": {},
   "outputs": [
    {
     "data": {
      "text/plain": [
       "date\n",
       "2023-07-01    22268.304450\n",
       "2023-10-01    22327.942302\n",
       "2024-01-01    22397.615920\n",
       "2024-04-01    22474.808669\n",
       "2024-07-01    22556.984931\n",
       "                  ...     \n",
       "2042-04-01    29280.674146\n",
       "2042-07-01    29375.704725\n",
       "2042-10-01    29470.950943\n",
       "2043-01-01    29565.981070\n",
       "2043-04-01    29661.226805\n",
       "Freq: QS-OCT, Name: predicted_mean, Length: 80, dtype: float64"
      ]
     },
     "execution_count": 105,
     "metadata": {},
     "output_type": "execute_result"
    }
   ],
   "source": [
    "predicted_values.index.name = 'date'\n",
    "predicted_values"
   ]
  },
  {
   "cell_type": "code",
   "execution_count": 100,
   "metadata": {},
   "outputs": [
    {
     "data": {
      "text/html": [
       "<div>\n",
       "<style scoped>\n",
       "    .dataframe tbody tr th:only-of-type {\n",
       "        vertical-align: middle;\n",
       "    }\n",
       "\n",
       "    .dataframe tbody tr th {\n",
       "        vertical-align: top;\n",
       "    }\n",
       "\n",
       "    .dataframe thead th {\n",
       "        text-align: right;\n",
       "    }\n",
       "</style>\n",
       "<table border=\"1\" class=\"dataframe\">\n",
       "  <thead>\n",
       "    <tr style=\"text-align: right;\">\n",
       "      <th></th>\n",
       "      <th>lower gdp</th>\n",
       "      <th>upper gdp</th>\n",
       "    </tr>\n",
       "  </thead>\n",
       "  <tbody>\n",
       "    <tr>\n",
       "      <th>2023-07-01</th>\n",
       "      <td>21629.730632</td>\n",
       "      <td>22906.878268</td>\n",
       "    </tr>\n",
       "    <tr>\n",
       "      <th>2023-10-01</th>\n",
       "      <td>21513.387537</td>\n",
       "      <td>23142.497068</td>\n",
       "    </tr>\n",
       "    <tr>\n",
       "      <th>2024-01-01</th>\n",
       "      <td>21478.946907</td>\n",
       "      <td>23316.284933</td>\n",
       "    </tr>\n",
       "    <tr>\n",
       "      <th>2024-04-01</th>\n",
       "      <td>21485.209298</td>\n",
       "      <td>23464.408039</td>\n",
       "    </tr>\n",
       "    <tr>\n",
       "      <th>2024-07-01</th>\n",
       "      <td>21514.438867</td>\n",
       "      <td>23599.530994</td>\n",
       "    </tr>\n",
       "    <tr>\n",
       "      <th>...</th>\n",
       "      <td>...</td>\n",
       "      <td>...</td>\n",
       "    </tr>\n",
       "    <tr>\n",
       "      <th>2042-04-01</th>\n",
       "      <td>26460.715061</td>\n",
       "      <td>32100.633231</td>\n",
       "    </tr>\n",
       "    <tr>\n",
       "      <th>2042-07-01</th>\n",
       "      <td>26530.836326</td>\n",
       "      <td>32220.573125</td>\n",
       "    </tr>\n",
       "    <tr>\n",
       "      <th>2042-10-01</th>\n",
       "      <td>26601.159272</td>\n",
       "      <td>32340.742614</td>\n",
       "    </tr>\n",
       "    <tr>\n",
       "      <th>2043-01-01</th>\n",
       "      <td>26671.262779</td>\n",
       "      <td>32460.699362</td>\n",
       "    </tr>\n",
       "    <tr>\n",
       "      <th>2043-04-01</th>\n",
       "      <td>26741.568329</td>\n",
       "      <td>32580.885281</td>\n",
       "    </tr>\n",
       "  </tbody>\n",
       "</table>\n",
       "<p>80 rows × 2 columns</p>\n",
       "</div>"
      ],
      "text/plain": [
       "               lower gdp     upper gdp\n",
       "2023-07-01  21629.730632  22906.878268\n",
       "2023-10-01  21513.387537  23142.497068\n",
       "2024-01-01  21478.946907  23316.284933\n",
       "2024-04-01  21485.209298  23464.408039\n",
       "2024-07-01  21514.438867  23599.530994\n",
       "...                  ...           ...\n",
       "2042-04-01  26460.715061  32100.633231\n",
       "2042-07-01  26530.836326  32220.573125\n",
       "2042-10-01  26601.159272  32340.742614\n",
       "2043-01-01  26671.262779  32460.699362\n",
       "2043-04-01  26741.568329  32580.885281\n",
       "\n",
       "[80 rows x 2 columns]"
      ]
     },
     "execution_count": 100,
     "metadata": {},
     "output_type": "execute_result"
    }
   ],
   "source": [
    "confidence_intervals"
   ]
  },
  {
   "cell_type": "code",
   "execution_count": 85,
   "metadata": {},
   "outputs": [],
   "source": [
    "predicted_values_indexed = predicted_values.reset_index()"
   ]
  },
  {
   "cell_type": "code",
   "execution_count": 79,
   "metadata": {},
   "outputs": [
    {
     "data": {
      "text/plain": [
       "DatetimeIndex(['2023-05-31', '2023-06-30', '2023-07-31', '2023-08-31',\n",
       "               '2023-09-30', '2023-10-31', '2023-11-30', '2023-12-31',\n",
       "               '2024-01-31', '2024-02-29', '2024-03-31', '2024-04-30',\n",
       "               '2024-05-31', '2024-06-30', '2024-07-31', '2024-08-31',\n",
       "               '2024-09-30', '2024-10-31', '2024-11-30', '2024-12-31',\n",
       "               '2025-01-31', '2025-02-28', '2025-03-31', '2025-04-30',\n",
       "               '2025-05-31', '2025-06-30', '2025-07-31', '2025-08-31',\n",
       "               '2025-09-30', '2025-10-31', '2025-11-30', '2025-12-31',\n",
       "               '2026-01-31', '2026-02-28', '2026-03-31', '2026-04-30',\n",
       "               '2026-05-31', '2026-06-30', '2026-07-31', '2026-08-31',\n",
       "               '2026-09-30', '2026-10-31', '2026-11-30', '2026-12-31',\n",
       "               '2027-01-31', '2027-02-28', '2027-03-31', '2027-04-30',\n",
       "               '2027-05-31', '2027-06-30', '2027-07-31', '2027-08-31',\n",
       "               '2027-09-30', '2027-10-31', '2027-11-30', '2027-12-31',\n",
       "               '2028-01-31', '2028-02-29', '2028-03-31', '2028-04-30',\n",
       "               '2028-05-31', '2028-06-30', '2028-07-31', '2028-08-31',\n",
       "               '2028-09-30', '2028-10-31', '2028-11-30', '2028-12-31',\n",
       "               '2029-01-31', '2029-02-28', '2029-03-31', '2029-04-30',\n",
       "               '2029-05-31', '2029-06-30', '2029-07-31', '2029-08-31',\n",
       "               '2029-09-30', '2029-10-31', '2029-11-30', '2029-12-31'],\n",
       "              dtype='datetime64[ns]', freq='M')"
      ]
     },
     "execution_count": 79,
     "metadata": {},
     "output_type": "execute_result"
    }
   ],
   "source": [
    "future_dates = pd.date_range(start=df.index.max(), periods=future_periods + 1, freq='M')[1:]\n",
    "future_dates"
   ]
  },
  {
   "cell_type": "code",
   "execution_count": 95,
   "metadata": {},
   "outputs": [
    {
     "data": {
      "text/html": [
       "<div>\n",
       "<style scoped>\n",
       "    .dataframe tbody tr th:only-of-type {\n",
       "        vertical-align: middle;\n",
       "    }\n",
       "\n",
       "    .dataframe tbody tr th {\n",
       "        vertical-align: top;\n",
       "    }\n",
       "\n",
       "    .dataframe thead th {\n",
       "        text-align: right;\n",
       "    }\n",
       "</style>\n",
       "<table border=\"1\" class=\"dataframe\">\n",
       "  <thead>\n",
       "    <tr style=\"text-align: right;\">\n",
       "      <th></th>\n",
       "      <th>date</th>\n",
       "      <th>forecasted_gdp</th>\n",
       "    </tr>\n",
       "  </thead>\n",
       "  <tbody>\n",
       "    <tr>\n",
       "      <th>0</th>\n",
       "      <td>2023-07-01</td>\n",
       "      <td>22268.304450</td>\n",
       "    </tr>\n",
       "    <tr>\n",
       "      <th>1</th>\n",
       "      <td>2023-10-01</td>\n",
       "      <td>22327.942302</td>\n",
       "    </tr>\n",
       "    <tr>\n",
       "      <th>2</th>\n",
       "      <td>2024-01-01</td>\n",
       "      <td>22397.615920</td>\n",
       "    </tr>\n",
       "    <tr>\n",
       "      <th>3</th>\n",
       "      <td>2024-04-01</td>\n",
       "      <td>22474.808669</td>\n",
       "    </tr>\n",
       "    <tr>\n",
       "      <th>4</th>\n",
       "      <td>2024-07-01</td>\n",
       "      <td>22556.984931</td>\n",
       "    </tr>\n",
       "    <tr>\n",
       "      <th>...</th>\n",
       "      <td>...</td>\n",
       "      <td>...</td>\n",
       "    </tr>\n",
       "    <tr>\n",
       "      <th>75</th>\n",
       "      <td>2042-04-01</td>\n",
       "      <td>29280.674146</td>\n",
       "    </tr>\n",
       "    <tr>\n",
       "      <th>76</th>\n",
       "      <td>2042-07-01</td>\n",
       "      <td>29375.704725</td>\n",
       "    </tr>\n",
       "    <tr>\n",
       "      <th>77</th>\n",
       "      <td>2042-10-01</td>\n",
       "      <td>29470.950943</td>\n",
       "    </tr>\n",
       "    <tr>\n",
       "      <th>78</th>\n",
       "      <td>2043-01-01</td>\n",
       "      <td>29565.981070</td>\n",
       "    </tr>\n",
       "    <tr>\n",
       "      <th>79</th>\n",
       "      <td>2043-04-01</td>\n",
       "      <td>29661.226805</td>\n",
       "    </tr>\n",
       "  </tbody>\n",
       "</table>\n",
       "<p>80 rows × 2 columns</p>\n",
       "</div>"
      ],
      "text/plain": [
       "         date  forecasted_gdp\n",
       "0  2023-07-01    22268.304450\n",
       "1  2023-10-01    22327.942302\n",
       "2  2024-01-01    22397.615920\n",
       "3  2024-04-01    22474.808669\n",
       "4  2024-07-01    22556.984931\n",
       "..        ...             ...\n",
       "75 2042-04-01    29280.674146\n",
       "76 2042-07-01    29375.704725\n",
       "77 2042-10-01    29470.950943\n",
       "78 2043-01-01    29565.981070\n",
       "79 2043-04-01    29661.226805\n",
       "\n",
       "[80 rows x 2 columns]"
      ]
     },
     "execution_count": 95,
     "metadata": {},
     "output_type": "execute_result"
    }
   ],
   "source": [
    "indexed_predicted_values = predicted_values.reset_index()\n",
    "indexed_predicted_values.columns = ['date','forecasted_gdp']\n",
    "indexed_predicted_values"
   ]
  },
  {
   "cell_type": "code",
   "execution_count": 80,
   "metadata": {},
   "outputs": [
    {
     "data": {
      "image/png": "[encoded data removed]",
      "text/plain": [
       "<Figure size 640x480 with 1 Axes>"
      ]
     },
     "metadata": {},
     "output_type": "display_data"
    }
   ],
   "source": [
    "# Plot the actual values\n",
    "plt.plot(df['gdp'], label='Actual GDP')\n",
    "\n",
    "# Plot the predicted values\n",
    "plt.plot(future_dates, predicted_values, label='Predicted GDP', color='red')\n",
    "\n",
    "# Plot confidence intervals if needed\n",
    "plt.fill_between(future_dates, confidence_intervals.iloc[:, 0], confidence_intervals.iloc[:, 1], color='red', alpha=0.2, label='Confidence Intervals')\n",
    "\n",
    "# Display the plot\n",
    "plt.legend()\n",
    "plt.title('ARIMA Model: Actual vs. Predicted GDP')\n",
    "plt.show()"
   ]
  }
 ],
 "metadata": {
  "kernelspec": {
   "display_name": "sefactory_env",
   "language": "python",
   "name": "python3"
  },
  "language_info": {
   "codemirror_mode": {
    "name": "ipython",
    "version": 3
   },
   "file_extension": ".py",
   "mimetype": "text/x-python",
   "name": "python",
   "nbconvert_exporter": "python",
   "pygments_lexer": "ipython3",
   "version": "3.10.9"
  }
 },
 "nbformat": 4,
 "nbformat_minor": 2
}
