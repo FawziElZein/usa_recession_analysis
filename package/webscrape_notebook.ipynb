{
 "cells": [
  {
   "cell_type": "code",
   "execution_count": 7,
   "metadata": {},
   "outputs": [
    {
     "name": "stdout",
     "output_type": "stream",
     "text": [
      "Actual value of the input: 2023-04-01\n"
     ]
    },
    {
     "ename": "KeyboardInterrupt",
     "evalue": "",
     "output_type": "error",
     "traceback": [
      "\u001b[1;31m---------------------------------------------------------------------------\u001b[0m",
      "\u001b[1;31mKeyboardInterrupt\u001b[0m                         Traceback (most recent call last)",
      "\u001b[1;32mc:\\Users\\user\\OneDrive\\Documents\\SE_Factory\\FSD\\Final_Project\\usa_recession_analysis\\webscrape_notebook.ipynb Cell 1\u001b[0m line \u001b[0;36m5\n\u001b[0;32m     <a href='vscode-notebook-cell:/c%3A/Users/user/OneDrive/Documents/SE_Factory/FSD/Final_Project/usa_recession_analysis/webscrape_notebook.ipynb#W0sZmlsZQ%3D%3D?line=47'>48</a>\u001b[0m \u001b[39mif\u001b[39;00m anchor_tag:\n\u001b[0;32m     <a href='vscode-notebook-cell:/c%3A/Users/user/OneDrive/Documents/SE_Factory/FSD/Final_Project/usa_recession_analysis/webscrape_notebook.ipynb#W0sZmlsZQ%3D%3D?line=48'>49</a>\u001b[0m     \u001b[39m# Check if the text of the anchor tag contains the word \"CSV\"\u001b[39;00m\n\u001b[0;32m     <a href='vscode-notebook-cell:/c%3A/Users/user/OneDrive/Documents/SE_Factory/FSD/Final_Project/usa_recession_analysis/webscrape_notebook.ipynb#W0sZmlsZQ%3D%3D?line=49'>50</a>\u001b[0m     \u001b[39mif\u001b[39;00m \u001b[39m\"\u001b[39m\u001b[39mCSV\u001b[39m\u001b[39m\"\u001b[39m \u001b[39min\u001b[39;00m anchor_tag\u001b[39m.\u001b[39mtext:\n\u001b[1;32m---> <a href='vscode-notebook-cell:/c%3A/Users/user/OneDrive/Documents/SE_Factory/FSD/Final_Project/usa_recession_analysis/webscrape_notebook.ipynb#W0sZmlsZQ%3D%3D?line=50'>51</a>\u001b[0m         time\u001b[39m.\u001b[39;49msleep(\u001b[39m5\u001b[39;49m)\n\u001b[0;32m     <a href='vscode-notebook-cell:/c%3A/Users/user/OneDrive/Documents/SE_Factory/FSD/Final_Project/usa_recession_analysis/webscrape_notebook.ipynb#W0sZmlsZQ%3D%3D?line=51'>52</a>\u001b[0m         href_link \u001b[39m=\u001b[39m anchor_tag\u001b[39m.\u001b[39mget_attribute(\u001b[39m\"\u001b[39m\u001b[39mhref\u001b[39m\u001b[39m\"\u001b[39m)\n\u001b[0;32m     <a href='vscode-notebook-cell:/c%3A/Users/user/OneDrive/Documents/SE_Factory/FSD/Final_Project/usa_recession_analysis/webscrape_notebook.ipynb#W0sZmlsZQ%3D%3D?line=52'>53</a>\u001b[0m         df \u001b[39m=\u001b[39m download_webscrape_csv_to_dataframe(href_link)\n",
      "\u001b[1;31mKeyboardInterrupt\u001b[0m: "
     ]
    }
   ],
   "source": [
    "import time\n",
    "from selenium import webdriver\n",
    "from selenium.webdriver.common.by import By\n",
    "from lookups import FredEconomicDataWebScrape\n",
    "from bs4 import BeautifulSoup\n",
    "import requests\n",
    "from pandas_data_handler import download_webscrape_csv_to_dataframe\n",
    "\n",
    "\n",
    "# URL of the page\n",
    "main_url = \"https://fred.stlouisfed.org/series/\"\n",
    "\n",
    "kpis = FredEconomicDataWebScrape.KPI.value\n",
    "for kpi in kpis:\n",
    "    driver = webdriver.Chrome()\n",
    "    url = main_url + kpi\n",
    "    driver.get(url)\n",
    "    # Send a GET request to the URL\n",
    "    response = requests.get(url)\n",
    "\n",
    "    # Use BeautifulSoup to parse the HTML content\n",
    "    soup = BeautifulSoup(response.text, 'html.parser')\n",
    "    input_field = driver.find_element(By.ID, \"input-cosd\")\n",
    "    input_field.clear()\n",
    "    time.sleep(1)\n",
    "    input_field.send_keys(\"2007-01-01\")\n",
    "    time.sleep(1)\n",
    "    # Find the button by its ID and click it\n",
    "    download_button = driver.find_element(By.ID, \"download-button\")\n",
    "    download_button.click()\n",
    "\n",
    "    # # Wait for a few seconds to ensure that the menu has expanded\n",
    "    time.sleep(2)\n",
    "\n",
    "    # # Access the UL tag with id \"fg-download-menu\"\n",
    "    download_menu = driver.find_element(By.ID, \"fg-download-menu\")\n",
    "\n",
    "    li_elements = download_menu.find_elements(By.TAG_NAME, \"li\")\n",
    "\n",
    "    for li_element in li_elements:\n",
    "            # Check if the li element contains an anchor tag\n",
    "            anchor_tag = li_element.find_element(By.TAG_NAME, \"a\")\n",
    "            if anchor_tag:\n",
    "                # Check if the text of the anchor tag contains the word \"CSV\"\n",
    "                if \"CSV\" in anchor_tag.text:\n",
    "                    href_link = anchor_tag.get_attribute(\"href\")\n",
    "                    df = download_webscrape_csv_to_dataframe(href_link)\n",
    "                    \n",
    "    # # Close the webdriver\n",
    "    driver.quit()\n"
   ]
  }
 ],
 "metadata": {
  "kernelspec": {
   "display_name": "sefactory_env",
   "language": "python",
   "name": "python3"
  },
  "language_info": {
   "codemirror_mode": {
    "name": "ipython",
    "version": 3
   },
   "file_extension": ".py",
   "mimetype": "text/x-python",
   "name": "python",
   "nbconvert_exporter": "python",
   "pygments_lexer": "ipython3",
   "version": "3.10.9"
  }
 },
 "nbformat": 4,
 "nbformat_minor": 2
}
